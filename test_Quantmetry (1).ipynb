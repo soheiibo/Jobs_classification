{
  "nbformat": 4,
  "nbformat_minor": 0,
  "metadata": {
    "colab": {
      "name": "test_Quantmetry.ipynb",
      "provenance": [],
      "collapsed_sections": []
    },
    "kernelspec": {
      "name": "python3",
      "display_name": "Python 3"
    },
    "language_info": {
      "name": "python"
    },
    "accelerator": "GPU"
  },
  "cells": [
    {
      "cell_type": "code",
      "source": [
        "import numpy as np\n",
        "import pandas as pd\n",
        "import matplotlib.pyplot as plt\n",
        "import plotly.offline as py\n",
        "import seaborn as sns\n",
        "import scipy\n",
        "import plotly.graph_objs as go\n",
        "import plotly \n",
        "import plotly.figure_factory as ff\n",
        "from scipy.stats import chi2_contingency\n",
        "from sklearn.model_selection import train_test_split\n",
        "from sklearn.model_selection import GridSearchCV\n",
        "from sklearn import metrics\n",
        "import xgboost as xgb\n",
        "from xgboost import XGBClassifier\n",
        "from sklearn import preprocessing\n",
        "from sklearn import metrics\n",
        "from sklearn.metrics import *\n",
        "from sklearn.linear_model import LogisticRegressionCV\n",
        "from sklearn.tree import DecisionTreeClassifier\n",
        "from sklearn.svm import SVC\n",
        "from sklearn.ensemble import GradientBoostingClassifier, RandomForestClassifier\n",
        "from sklearn.neighbors import KNeighborsClassifier\n",
        "from sklearn.feature_selection import RFECV\n",
        "from sklearn.feature_selection import SelectKBest\n",
        "from sklearn.feature_selection import chi2\n",
        "from sklearn.feature_selection import f_classif\n",
        "from sklearn.feature_selection import f_regression\n",
        "from sklearn.preprocessing import StandardScaler\n",
        "import missingno as msno"
      ],
      "metadata": {
        "id": "qprrXyEvYlWh"
      },
      "execution_count": 76,
      "outputs": []
    },
    {
      "cell_type": "code",
      "source": [
        "from google.colab import drive \n",
        "drive.mount('/content/drive')"
      ],
      "metadata": {
        "colab": {
          "base_uri": "https://localhost:8080/"
        },
        "id": "eRpY-nIGTspV",
        "outputId": "69983a48-9245-40b6-fae0-e586aa50e6d9"
      },
      "execution_count": 2,
      "outputs": [
        {
          "output_type": "stream",
          "name": "stdout",
          "text": [
            "Drive already mounted at /content/drive; to attempt to forcibly remount, call drive.mount(\"/content/drive\", force_remount=True).\n"
          ]
        }
      ]
    },
    {
      "cell_type": "code",
      "source": [
        "import pandas as pd\n",
        "\n",
        "df = pd.read_csv('/content/drive/My Drive/data.csv')\n"
      ],
      "metadata": {
        "id": "_BUohHQsTsq2"
      },
      "execution_count": 3,
      "outputs": []
    },
    {
      "cell_type": "code",
      "source": [
        "df.head()"
      ],
      "metadata": {
        "colab": {
          "base_uri": "https://localhost:8080/",
          "height": 206
        },
        "id": "0WS1qRIYTstL",
        "outputId": "d1cec608-4631-4027-f337-0bf9977c649c"
      },
      "execution_count": 4,
      "outputs": [
        {
          "output_type": "execute_result",
          "data": {
            "text/html": [
              "\n",
              "  <div id=\"df-af561746-7dd3-45ba-b9cb-08214cc0faac\">\n",
              "    <div class=\"colab-df-container\">\n",
              "      <div>\n",
              "<style scoped>\n",
              "    .dataframe tbody tr th:only-of-type {\n",
              "        vertical-align: middle;\n",
              "    }\n",
              "\n",
              "    .dataframe tbody tr th {\n",
              "        vertical-align: top;\n",
              "    }\n",
              "\n",
              "    .dataframe thead th {\n",
              "        text-align: right;\n",
              "    }\n",
              "</style>\n",
              "<table border=\"1\" class=\"dataframe\">\n",
              "  <thead>\n",
              "    <tr style=\"text-align: right;\">\n",
              "      <th></th>\n",
              "      <th>Unnamed: 0</th>\n",
              "      <th>index</th>\n",
              "      <th>date</th>\n",
              "      <th>cheveux</th>\n",
              "      <th>age</th>\n",
              "      <th>exp</th>\n",
              "      <th>salaire</th>\n",
              "      <th>sexe</th>\n",
              "      <th>diplome</th>\n",
              "      <th>specialite</th>\n",
              "      <th>note</th>\n",
              "      <th>dispo</th>\n",
              "      <th>embauche</th>\n",
              "    </tr>\n",
              "  </thead>\n",
              "  <tbody>\n",
              "    <tr>\n",
              "      <th>0</th>\n",
              "      <td>0</td>\n",
              "      <td>0</td>\n",
              "      <td>2012-06-02</td>\n",
              "      <td>roux</td>\n",
              "      <td>25.0</td>\n",
              "      <td>9.0</td>\n",
              "      <td>26803.0</td>\n",
              "      <td>F</td>\n",
              "      <td>licence</td>\n",
              "      <td>geologie</td>\n",
              "      <td>97.08</td>\n",
              "      <td>non</td>\n",
              "      <td>0</td>\n",
              "    </tr>\n",
              "    <tr>\n",
              "      <th>1</th>\n",
              "      <td>1</td>\n",
              "      <td>1</td>\n",
              "      <td>2011-04-21</td>\n",
              "      <td>blond</td>\n",
              "      <td>35.0</td>\n",
              "      <td>13.0</td>\n",
              "      <td>38166.0</td>\n",
              "      <td>M</td>\n",
              "      <td>licence</td>\n",
              "      <td>forage</td>\n",
              "      <td>63.86</td>\n",
              "      <td>non</td>\n",
              "      <td>0</td>\n",
              "    </tr>\n",
              "    <tr>\n",
              "      <th>2</th>\n",
              "      <td>2</td>\n",
              "      <td>2</td>\n",
              "      <td>2012-09-07</td>\n",
              "      <td>blond</td>\n",
              "      <td>29.0</td>\n",
              "      <td>13.0</td>\n",
              "      <td>35207.0</td>\n",
              "      <td>M</td>\n",
              "      <td>licence</td>\n",
              "      <td>geologie</td>\n",
              "      <td>78.50</td>\n",
              "      <td>non</td>\n",
              "      <td>0</td>\n",
              "    </tr>\n",
              "    <tr>\n",
              "      <th>3</th>\n",
              "      <td>3</td>\n",
              "      <td>3</td>\n",
              "      <td>2011-07-01</td>\n",
              "      <td>brun</td>\n",
              "      <td>NaN</td>\n",
              "      <td>12.0</td>\n",
              "      <td>32442.0</td>\n",
              "      <td>M</td>\n",
              "      <td>licence</td>\n",
              "      <td>geologie</td>\n",
              "      <td>45.09</td>\n",
              "      <td>non</td>\n",
              "      <td>0</td>\n",
              "    </tr>\n",
              "    <tr>\n",
              "      <th>4</th>\n",
              "      <td>4</td>\n",
              "      <td>4</td>\n",
              "      <td>2012-08-07</td>\n",
              "      <td>roux</td>\n",
              "      <td>35.0</td>\n",
              "      <td>6.0</td>\n",
              "      <td>28533.0</td>\n",
              "      <td>F</td>\n",
              "      <td>licence</td>\n",
              "      <td>detective</td>\n",
              "      <td>81.91</td>\n",
              "      <td>non</td>\n",
              "      <td>0</td>\n",
              "    </tr>\n",
              "  </tbody>\n",
              "</table>\n",
              "</div>\n",
              "      <button class=\"colab-df-convert\" onclick=\"convertToInteractive('df-af561746-7dd3-45ba-b9cb-08214cc0faac')\"\n",
              "              title=\"Convert this dataframe to an interactive table.\"\n",
              "              style=\"display:none;\">\n",
              "        \n",
              "  <svg xmlns=\"http://www.w3.org/2000/svg\" height=\"24px\"viewBox=\"0 0 24 24\"\n",
              "       width=\"24px\">\n",
              "    <path d=\"M0 0h24v24H0V0z\" fill=\"none\"/>\n",
              "    <path d=\"M18.56 5.44l.94 2.06.94-2.06 2.06-.94-2.06-.94-.94-2.06-.94 2.06-2.06.94zm-11 1L8.5 8.5l.94-2.06 2.06-.94-2.06-.94L8.5 2.5l-.94 2.06-2.06.94zm10 10l.94 2.06.94-2.06 2.06-.94-2.06-.94-.94-2.06-.94 2.06-2.06.94z\"/><path d=\"M17.41 7.96l-1.37-1.37c-.4-.4-.92-.59-1.43-.59-.52 0-1.04.2-1.43.59L10.3 9.45l-7.72 7.72c-.78.78-.78 2.05 0 2.83L4 21.41c.39.39.9.59 1.41.59.51 0 1.02-.2 1.41-.59l7.78-7.78 2.81-2.81c.8-.78.8-2.07 0-2.86zM5.41 20L4 18.59l7.72-7.72 1.47 1.35L5.41 20z\"/>\n",
              "  </svg>\n",
              "      </button>\n",
              "      \n",
              "  <style>\n",
              "    .colab-df-container {\n",
              "      display:flex;\n",
              "      flex-wrap:wrap;\n",
              "      gap: 12px;\n",
              "    }\n",
              "\n",
              "    .colab-df-convert {\n",
              "      background-color: #E8F0FE;\n",
              "      border: none;\n",
              "      border-radius: 50%;\n",
              "      cursor: pointer;\n",
              "      display: none;\n",
              "      fill: #1967D2;\n",
              "      height: 32px;\n",
              "      padding: 0 0 0 0;\n",
              "      width: 32px;\n",
              "    }\n",
              "\n",
              "    .colab-df-convert:hover {\n",
              "      background-color: #E2EBFA;\n",
              "      box-shadow: 0px 1px 2px rgba(60, 64, 67, 0.3), 0px 1px 3px 1px rgba(60, 64, 67, 0.15);\n",
              "      fill: #174EA6;\n",
              "    }\n",
              "\n",
              "    [theme=dark] .colab-df-convert {\n",
              "      background-color: #3B4455;\n",
              "      fill: #D2E3FC;\n",
              "    }\n",
              "\n",
              "    [theme=dark] .colab-df-convert:hover {\n",
              "      background-color: #434B5C;\n",
              "      box-shadow: 0px 1px 3px 1px rgba(0, 0, 0, 0.15);\n",
              "      filter: drop-shadow(0px 1px 2px rgba(0, 0, 0, 0.3));\n",
              "      fill: #FFFFFF;\n",
              "    }\n",
              "  </style>\n",
              "\n",
              "      <script>\n",
              "        const buttonEl =\n",
              "          document.querySelector('#df-af561746-7dd3-45ba-b9cb-08214cc0faac button.colab-df-convert');\n",
              "        buttonEl.style.display =\n",
              "          google.colab.kernel.accessAllowed ? 'block' : 'none';\n",
              "\n",
              "        async function convertToInteractive(key) {\n",
              "          const element = document.querySelector('#df-af561746-7dd3-45ba-b9cb-08214cc0faac');\n",
              "          const dataTable =\n",
              "            await google.colab.kernel.invokeFunction('convertToInteractive',\n",
              "                                                     [key], {});\n",
              "          if (!dataTable) return;\n",
              "\n",
              "          const docLinkHtml = 'Like what you see? Visit the ' +\n",
              "            '<a target=\"_blank\" href=https://colab.research.google.com/notebooks/data_table.ipynb>data table notebook</a>'\n",
              "            + ' to learn more about interactive tables.';\n",
              "          element.innerHTML = '';\n",
              "          dataTable['output_type'] = 'display_data';\n",
              "          await google.colab.output.renderOutput(dataTable, element);\n",
              "          const docLink = document.createElement('div');\n",
              "          docLink.innerHTML = docLinkHtml;\n",
              "          element.appendChild(docLink);\n",
              "        }\n",
              "      </script>\n",
              "    </div>\n",
              "  </div>\n",
              "  "
            ],
            "text/plain": [
              "   Unnamed: 0  index        date cheveux  ...  specialite   note  dispo embauche\n",
              "0           0      0  2012-06-02    roux  ...    geologie  97.08    non        0\n",
              "1           1      1  2011-04-21   blond  ...      forage  63.86    non        0\n",
              "2           2      2  2012-09-07   blond  ...    geologie  78.50    non        0\n",
              "3           3      3  2011-07-01    brun  ...    geologie  45.09    non        0\n",
              "4           4      4  2012-08-07    roux  ...   detective  81.91    non        0\n",
              "\n",
              "[5 rows x 13 columns]"
            ]
          },
          "metadata": {},
          "execution_count": 4
        }
      ]
    },
    {
      "cell_type": "code",
      "source": [
        ""
      ],
      "metadata": {
        "id": "nTh3EcAcsvmd"
      },
      "execution_count": 4,
      "outputs": []
    },
    {
      "cell_type": "code",
      "source": [
        "df.shape"
      ],
      "metadata": {
        "colab": {
          "base_uri": "https://localhost:8080/"
        },
        "id": "MAk3yz2oTsw1",
        "outputId": "59e5b717-fdad-4b5c-a876-51c9e6b1b4a3"
      },
      "execution_count": 5,
      "outputs": [
        {
          "output_type": "execute_result",
          "data": {
            "text/plain": [
              "(20000, 13)"
            ]
          },
          "metadata": {},
          "execution_count": 5
        }
      ]
    },
    {
      "cell_type": "markdown",
      "source": [
        "# EDA:\n"
      ],
      "metadata": {
        "id": "fKmG8E8RYwdg"
      }
    },
    {
      "cell_type": "markdown",
      "source": [
        "# Statistique descriptive:"
      ],
      "metadata": {
        "id": "tMh7IrQ62ccB"
      }
    },
    {
      "cell_type": "code",
      "source": [
        "df.info()"
      ],
      "metadata": {
        "colab": {
          "base_uri": "https://localhost:8080/"
        },
        "id": "hMGwHvsnX56z",
        "outputId": "16732a88-ced7-4ecc-f443-5379b951d0b8"
      },
      "execution_count": 6,
      "outputs": [
        {
          "output_type": "stream",
          "name": "stdout",
          "text": [
            "<class 'pandas.core.frame.DataFrame'>\n",
            "RangeIndex: 20000 entries, 0 to 19999\n",
            "Data columns (total 13 columns):\n",
            " #   Column      Non-Null Count  Dtype  \n",
            "---  ------      --------------  -----  \n",
            " 0   Unnamed: 0  20000 non-null  int64  \n",
            " 1   index       20000 non-null  int64  \n",
            " 2   date        19909 non-null  object \n",
            " 3   cheveux     19897 non-null  object \n",
            " 4   age         19909 non-null  float64\n",
            " 5   exp         19904 non-null  float64\n",
            " 6   salaire     19905 non-null  float64\n",
            " 7   sexe        19900 non-null  object \n",
            " 8   diplome     19890 non-null  object \n",
            " 9   specialite  19907 non-null  object \n",
            " 10  note        19886 non-null  float64\n",
            " 11  dispo       19894 non-null  object \n",
            " 12  embauche    20000 non-null  int64  \n",
            "dtypes: float64(4), int64(3), object(6)\n",
            "memory usage: 2.0+ MB\n"
          ]
        }
      ]
    },
    {
      "cell_type": "markdown",
      "source": [
        "On a un jeu de donnée qui contient 11 variables dont 6 sont qualitatives et 5 quantitatives"
      ],
      "metadata": {
        "id": "PWv5CLJB5HMf"
      }
    },
    {
      "cell_type": "markdown",
      "source": [
        "verifions la nature de notre problème :"
      ],
      "metadata": {
        "id": "sesKVn4aY7oX"
      }
    },
    {
      "cell_type": "code",
      "source": [
        "a = df['embauche'].value_counts()\n"
      ],
      "metadata": {
        "id": "fEx1t6H_YyTh"
      },
      "execution_count": 7,
      "outputs": []
    },
    {
      "cell_type": "code",
      "source": [
        "a"
      ],
      "metadata": {
        "colab": {
          "base_uri": "https://localhost:8080/"
        },
        "id": "9xUDxD640voS",
        "outputId": "d1937114-162e-4149-f061-a7b2e41d58d7"
      },
      "execution_count": 8,
      "outputs": [
        {
          "output_type": "execute_result",
          "data": {
            "text/plain": [
              "0    17708\n",
              "1     2292\n",
              "Name: embauche, dtype: int64"
            ]
          },
          "metadata": {},
          "execution_count": 8
        }
      ]
    },
    {
      "cell_type": "markdown",
      "source": [
        "D'une première vue on peut voir que la classe 0 (non embauche) est majoritaire devant la classe 1, c'est ce qu'on appalle umbalanced data"
      ],
      "metadata": {
        "id": "CHq-4vfoZ_dZ"
      }
    },
    {
      "cell_type": "code",
      "source": [
        "a.plot(kind='pie',title= 'distribution de la Target', legend = False, figsize=(12,6), fontsize=12,explode = [0, 0.2])"
      ],
      "metadata": {
        "colab": {
          "base_uri": "https://localhost:8080/",
          "height": 390
        },
        "id": "QSDMau2qZ9FN",
        "outputId": "ebf66a18-9f47-4401-cb3d-7f757a012462"
      },
      "execution_count": 9,
      "outputs": [
        {
          "output_type": "execute_result",
          "data": {
            "text/plain": [
              "<matplotlib.axes._subplots.AxesSubplot at 0x7fe2b530e2d0>"
            ]
          },
          "metadata": {},
          "execution_count": 9
        },
        {
          "output_type": "display_data",
          "data": {
            "image/png": "[encoded data removed]",
            "text/plain": [
              "<Figure size 864x432 with 1 Axes>"
            ]
          },
          "metadata": {}
        }
      ]
    },
    {
      "cell_type": "code",
      "source": [
        "#  categorical data\n",
        "target_columns = ['embauche']\n",
        "features = [col for col in df.columns if col not in target_columns]\n",
        "\n",
        "categorical_features = []\n",
        "numerical_features = []\n",
        "\n",
        "for col in features :\n",
        "  if np.issubdtype('O', df[col].dtype):\n",
        "    categorical_features.append(col)  \n",
        "  else:\n",
        "    numerical_features.append(col)"
      ],
      "metadata": {
        "id": "_oto2mPwqGvM"
      },
      "execution_count": 10,
      "outputs": []
    },
    {
      "cell_type": "code",
      "source": [
        "numerical_features"
      ],
      "metadata": {
        "colab": {
          "base_uri": "https://localhost:8080/"
        },
        "id": "vM2iTdVHrk7d",
        "outputId": "2de3d6ab-ecfe-472c-fa78-7df099031539"
      },
      "execution_count": 11,
      "outputs": [
        {
          "output_type": "execute_result",
          "data": {
            "text/plain": [
              "['Unnamed: 0', 'index', 'age', 'exp', 'salaire', 'note']"
            ]
          },
          "metadata": {},
          "execution_count": 11
        }
      ]
    },
    {
      "cell_type": "code",
      "source": [
        "categorical_features"
      ],
      "metadata": {
        "colab": {
          "base_uri": "https://localhost:8080/"
        },
        "id": "tO2Ra5T9rmtY",
        "outputId": "0b78c4db-b8ba-4ea5-f8e6-c8962ec438fc"
      },
      "execution_count": 12,
      "outputs": [
        {
          "output_type": "execute_result",
          "data": {
            "text/plain": [
              "['date', 'cheveux', 'sexe', 'diplome', 'specialite', 'dispo']"
            ]
          },
          "metadata": {},
          "execution_count": 12
        }
      ]
    },
    {
      "cell_type": "code",
      "source": [
        "# we chack let's see if we have a misspelled values in our categorical features\n",
        "for i in range(len(categorical_features)):\n",
        "  print(categorical_features[i])\n",
        "  print( df[categorical_features[i]].value_counts())\n",
        "  print('+++++++++++++++++++++++++++')"
      ],
      "metadata": {
        "colab": {
          "base_uri": "https://localhost:8080/"
        },
        "id": "ohilULXFrpEu",
        "outputId": "4f1d2af3-04f6-4296-f8d5-31879c1a669e"
      },
      "execution_count": 13,
      "outputs": [
        {
          "output_type": "stream",
          "name": "stdout",
          "text": [
            "date\n",
            "2012-02-03    24\n",
            "2013-06-17    23\n",
            "2013-04-11    22\n",
            "2011-03-09    21\n",
            "2011-09-03    21\n",
            "              ..\n",
            "2014-10-22     3\n",
            "2012-06-28     3\n",
            "2010-08-04     3\n",
            "2011-03-02     2\n",
            "2014-08-26     1\n",
            "Name: date, Length: 1826, dtype: int64\n",
            "+++++++++++++++++++++++++++\n",
            "cheveux\n",
            "chatain    6022\n",
            "brun       5991\n",
            "blond      5929\n",
            "roux       1955\n",
            "Name: cheveux, dtype: int64\n",
            "+++++++++++++++++++++++++++\n",
            "sexe\n",
            "M    11889\n",
            "F     8011\n",
            "Name: sexe, dtype: int64\n",
            "+++++++++++++++++++++++++++\n",
            "diplome\n",
            "master      7513\n",
            "licence     7377\n",
            "doctorat    2547\n",
            "bac         2453\n",
            "Name: diplome, dtype: int64\n",
            "+++++++++++++++++++++++++++\n",
            "specialite\n",
            "geologie       10028\n",
            "forage          4340\n",
            "detective       4155\n",
            "archeologie     1384\n",
            "Name: specialite, dtype: int64\n",
            "+++++++++++++++++++++++++++\n",
            "dispo\n",
            "non    11848\n",
            "oui     8046\n",
            "Name: dispo, dtype: int64\n",
            "+++++++++++++++++++++++++++\n"
          ]
        }
      ]
    },
    {
      "cell_type": "markdown",
      "source": [
        "## Les valeurs abberantes:"
      ],
      "metadata": {
        "id": "zQqnG6p87AnK"
      }
    },
    {
      "cell_type": "markdown",
      "source": [
        "Nous affichons les box plots des différentes variables:"
      ],
      "metadata": {
        "id": "27dbzTVW7Dhe"
      }
    },
    {
      "cell_type": "code",
      "source": [
        "plt.figure(figsize=(8,6))\n",
        "sns.boxplot(x='diplome',\n",
        "            y='age',\n",
        "            data=df)"
      ],
      "metadata": {
        "colab": {
          "base_uri": "https://localhost:8080/",
          "height": 405
        },
        "id": "t9Pl0OlDyURI",
        "outputId": "e30dd4d9-d02a-4a5b-f9e8-9fc302c155cb"
      },
      "execution_count": 14,
      "outputs": [
        {
          "output_type": "execute_result",
          "data": {
            "text/plain": [
              "<matplotlib.axes._subplots.AxesSubplot at 0x7fe2b3dfe850>"
            ]
          },
          "metadata": {},
          "execution_count": 14
        },
        {
          "output_type": "display_data",
          "data": {
            "image/png": "[encoded data removed]",
            "text/plain": [
              "<Figure size 576x432 with 1 Axes>"
            ]
          },
          "metadata": {
            "needs_background": "light"
          }
        }
      ]
    },
    {
      "cell_type": "code",
      "source": [
        "plt.figure(figsize=(8,6))\n",
        "sns.boxplot(x='diplome',\n",
        "            y='exp',\n",
        "            data=df)"
      ],
      "metadata": {
        "colab": {
          "base_uri": "https://localhost:8080/",
          "height": 405
        },
        "id": "D6QP95nm1VMg",
        "outputId": "a60cc2cf-babc-4365-a12f-ab4c11bc4c15"
      },
      "execution_count": 15,
      "outputs": [
        {
          "output_type": "execute_result",
          "data": {
            "text/plain": [
              "<matplotlib.axes._subplots.AxesSubplot at 0x7fe2b3d34b10>"
            ]
          },
          "metadata": {},
          "execution_count": 15
        },
        {
          "output_type": "display_data",
          "data": {
            "image/png": "[encoded data removed]",
            "text/plain": [
              "<Figure size 576x432 with 1 Axes>"
            ]
          },
          "metadata": {
            "needs_background": "light"
          }
        }
      ]
    },
    {
      "cell_type": "code",
      "source": [
        "plt.figure(figsize=(8,6))\n",
        "sns.boxplot(x='exp',\n",
        "            y='age',\n",
        "            data=df)"
      ],
      "metadata": {
        "colab": {
          "base_uri": "https://localhost:8080/",
          "height": 405
        },
        "id": "ASdgZvxt1VOO",
        "outputId": "5ce81fb9-6ac3-40cd-bb44-cab94a1e7d0c"
      },
      "execution_count": 16,
      "outputs": [
        {
          "output_type": "execute_result",
          "data": {
            "text/plain": [
              "<matplotlib.axes._subplots.AxesSubplot at 0x7fe2b3c7c410>"
            ]
          },
          "metadata": {},
          "execution_count": 16
        },
        {
          "output_type": "display_data",
          "data": {
            "image/png": "[encoded data removed]",
            "text/plain": [
              "<Figure size 576x432 with 1 Axes>"
            ]
          },
          "metadata": {
            "needs_background": "light"
          }
        }
      ]
    },
    {
      "cell_type": "markdown",
      "source": [
        "### Les valeurs abberantes de la variable \"age\" : \n",
        "Nous supposons que l'age minimal de travail chez cette entreprise est est 18 ans et l'age de la retraite est de 65 ans\n"
      ],
      "metadata": {
        "id": "iKYpbXgx6a5H"
      }
    },
    {
      "cell_type": "code",
      "source": [
        "df.loc[(df['age'] >= 65), 'age'] = round(df['age'].mean(), 0)\n",
        "df.loc[(df['age'] < 18), 'age'] = round(df['age'].mean(), 0) "
      ],
      "metadata": {
        "id": "NQNPgkq61VQg"
      },
      "execution_count": 17,
      "outputs": []
    },
    {
      "cell_type": "markdown",
      "source": [
        "\n",
        "### Les valeurs abberantes de la variable \"Diplome\" : \n",
        "Nous traitons cette variable en fonction de l'age:\n",
        "- diplome bac : age 18 ans \n",
        "- license --> 21 ans \n",
        "- master --> 23 ans\n",
        "- doctorat --> 27 ans\n"
      ],
      "metadata": {
        "id": "C93EdqV47R8r"
      }
    },
    {
      "cell_type": "code",
      "source": [
        "df.loc[(df['diplome'] == \"bac\"), 'age'] = 18 \n",
        "df.loc[(df['diplome'] == \"licence\"), 'age'] = 21 \n",
        "df.loc[(df['diplome'] == \"master\"), 'age'] = 23 \n",
        "df.loc[(df['diplome'] == \"doctorat\"), 'age'] = 27 "
      ],
      "metadata": {
        "id": "pI6AAIMU1VS2"
      },
      "execution_count": 18,
      "outputs": []
    },
    {
      "cell_type": "markdown",
      "source": [
        "### Les valeurs abberantes de la variable \"Exp\" : \n",
        "Sur des observations ou l'expérience dépasse l'âge, cette dernière sera remplacée par la moyenne de l'expérience\n",
        "Nous remplaçons l'expérience par la moyenne quand elle dépasse l'age et quand elle est inférieur à zéro.\n"
      ],
      "metadata": {
        "id": "xYPy8czj7WeC"
      }
    },
    {
      "cell_type": "code",
      "source": [
        "df.loc[(df['exp'] < 0), 'exp'] = round(df['exp'].mean(), 0) \n",
        "df.loc[(df['exp'] > df['age']),'exp'] = round(df['exp'].mean(),0) \n"
      ],
      "metadata": {
        "id": "5j9BExKn1VVC"
      },
      "execution_count": 19,
      "outputs": []
    },
    {
      "cell_type": "markdown",
      "source": [
        "Nous remplaçons la note par 100 quand elle est supérieure à 100 \n"
      ],
      "metadata": {
        "id": "qiKwSeJm9FEy"
      }
    },
    {
      "cell_type": "code",
      "source": [
        "df.loc[(df['note'] > 100), 'note'] = 100 \n"
      ],
      "metadata": {
        "id": "IBz4RxK_1VXp"
      },
      "execution_count": 20,
      "outputs": []
    },
    {
      "cell_type": "markdown",
      "source": [
        "## Imputation des valeurs manquantes:"
      ],
      "metadata": {
        "id": "hpVg9dGu779y"
      }
    },
    {
      "cell_type": "code",
      "source": [
        ""
      ],
      "metadata": {
        "id": "6K_mN6yP8Hey"
      },
      "execution_count": 20,
      "outputs": []
    },
    {
      "cell_type": "code",
      "source": [
        "numerical_features.remove('index')\n",
        "numerical_features.remove('Unnamed: 0')"
      ],
      "metadata": {
        "id": "KoNrsEwV9EQ9"
      },
      "execution_count": 22,
      "outputs": []
    },
    {
      "cell_type": "code",
      "source": [
        "#the number of missing values for each variable\n",
        "df[numerical_features].isnull().sum()"
      ],
      "metadata": {
        "colab": {
          "base_uri": "https://localhost:8080/"
        },
        "id": "uPZBBKyz_A35",
        "outputId": "ac086a02-c9c0-4ce0-b7a2-dc9565a6d081"
      },
      "execution_count": 23,
      "outputs": [
        {
          "output_type": "execute_result",
          "data": {
            "text/plain": [
              "age          0\n",
              "exp         96\n",
              "salaire     95\n",
              "note       114\n",
              "dtype: int64"
            ]
          },
          "metadata": {},
          "execution_count": 23
        }
      ]
    },
    {
      "cell_type": "code",
      "source": [
        "# plot of the position of missing values for each feature\n",
        "msno.matrix(df[numerical_features])"
      ],
      "metadata": {
        "colab": {
          "base_uri": "https://localhost:8080/",
          "height": 430
        },
        "id": "XOjMw6EZ8a0P",
        "outputId": "e29c1271-fd91-4489-ad8f-48c01157d548"
      },
      "execution_count": 24,
      "outputs": [
        {
          "output_type": "execute_result",
          "data": {
            "text/plain": [
              "<matplotlib.axes._subplots.AxesSubplot at 0x7fe2b3990e50>"
            ]
          },
          "metadata": {},
          "execution_count": 24
        },
        {
          "output_type": "display_data",
          "data": {
            "image/png": "[encoded data removed]",
            "text/plain": [
              "<Figure size 1800x720 with 2 Axes>"
            ]
          },
          "metadata": {
            "needs_background": "light"
          }
        }
      ]
    },
    {
      "cell_type": "markdown",
      "source": [
        "\n",
        "On peut voir qu'un valeur manquante d'une variabe n'est pas associée ç une autre variable ou avec la variable 'embauche'. c'est à dire on n'a aucune dépendance entre les valeurs manquantes (values missing Completely at Random) d'ou on peut les remplacer par  la moyenne."
      ],
      "metadata": {
        "id": "KIw-v4oo9j0o"
      }
    },
    {
      "cell_type": "code",
      "source": [
        "#Variables Numériques\n",
        "df[numerical_features]= df[numerical_features].astype(np.float32)\n",
        "df[numerical_features] = df[numerical_features].fillna(round(df[numerical_features].mean(), 0))\n"
      ],
      "metadata": {
        "id": "lrsVukI97168"
      },
      "execution_count": 25,
      "outputs": []
    },
    {
      "cell_type": "code",
      "source": [
        "#the number of missing values for each variable\n",
        "df[categorical_features].isnull().sum()"
      ],
      "metadata": {
        "colab": {
          "base_uri": "https://localhost:8080/"
        },
        "id": "tMQq_t5LAdZW",
        "outputId": "52fcf212-acc0-4e1a-89b4-9dd99acea212"
      },
      "execution_count": 26,
      "outputs": [
        {
          "output_type": "execute_result",
          "data": {
            "text/plain": [
              "date           91\n",
              "cheveux       103\n",
              "sexe          100\n",
              "diplome       110\n",
              "specialite     93\n",
              "dispo         106\n",
              "dtype: int64"
            ]
          },
          "metadata": {},
          "execution_count": 26
        }
      ]
    },
    {
      "cell_type": "code",
      "source": [
        "#Variables quali\n",
        "df[categorical_features ]= df[categorical_features ].astype('category')\n",
        "df[categorical_features ] = df[categorical_features ].fillna(df[categorical_features ].mode().iloc[0])\n"
      ],
      "metadata": {
        "id": "nL328rvN718W"
      },
      "execution_count": 27,
      "outputs": []
    },
    {
      "cell_type": "code",
      "source": [
        "df.info()"
      ],
      "metadata": {
        "colab": {
          "base_uri": "https://localhost:8080/"
        },
        "id": "0-LGntEm71_P",
        "outputId": "c858fd3d-12f6-4b86-d569-59d3f7aae595"
      },
      "execution_count": 28,
      "outputs": [
        {
          "output_type": "stream",
          "name": "stdout",
          "text": [
            "<class 'pandas.core.frame.DataFrame'>\n",
            "RangeIndex: 20000 entries, 0 to 19999\n",
            "Data columns (total 13 columns):\n",
            " #   Column      Non-Null Count  Dtype   \n",
            "---  ------      --------------  -----   \n",
            " 0   Unnamed: 0  20000 non-null  int64   \n",
            " 1   index       20000 non-null  int64   \n",
            " 2   date        20000 non-null  category\n",
            " 3   cheveux     20000 non-null  category\n",
            " 4   age         20000 non-null  float32 \n",
            " 5   exp         20000 non-null  float32 \n",
            " 6   salaire     20000 non-null  float32 \n",
            " 7   sexe        20000 non-null  category\n",
            " 8   diplome     20000 non-null  category\n",
            " 9   specialite  20000 non-null  category\n",
            " 10  note        20000 non-null  float32 \n",
            " 11  dispo       20000 non-null  category\n",
            " 12  embauche    20000 non-null  int64   \n",
            "dtypes: category(6), float32(4), int64(3)\n",
            "memory usage: 1013.1 KB\n"
          ]
        }
      ]
    },
    {
      "cell_type": "markdown",
      "source": [
        "##   Création de nouvelles features numériques à partir de la date"
      ],
      "metadata": {
        "id": "CyMaDfeMBBZc"
      }
    },
    {
      "cell_type": "code",
      "source": [
        "df['date'] = pd.to_datetime(df['date'],format=\"%Y-%m-%d\")\n",
        "df['year']=  df['date'].dt.year\n",
        "df['month']=  df['date'].dt.month\n",
        "df['day']=  df['date'].dt.day"
      ],
      "metadata": {
        "id": "A98F_gea72CG"
      },
      "execution_count": 29,
      "outputs": []
    },
    {
      "cell_type": "markdown",
      "source": [
        "## Création de nouvelles Variables catégoriques"
      ],
      "metadata": {
        "id": "n5MuhLxSBHd0"
      }
    },
    {
      "cell_type": "code",
      "source": [
        "df['q_exp'] = pd.qcut(df['exp'],q=3,precision=0)\n",
        "df['q_age'] = pd.qcut(df['age'], q=3,precision=0)\n",
        "df['q_note'] = pd.qcut(df['note'],q=4,precision=0)\n",
        "df['q_salaire'] = pd.qcut(df['salaire'],q=5,precision=0)"
      ],
      "metadata": {
        "id": "RFn-wWvu72Ff"
      },
      "execution_count": 30,
      "outputs": []
    },
    {
      "cell_type": "code",
      "source": [
        "numerical_features = [\"age\",\"exp\",\"salaire\",\"note\",\"year\",\"month\",\"day\"]\n",
        "#df[numerical_features]= df[numerical_features].astype(np.float32)"
      ],
      "metadata": {
        "id": "c8nGyErL72J5"
      },
      "execution_count": 31,
      "outputs": []
    },
    {
      "cell_type": "code",
      "source": [
        "df.head()"
      ],
      "metadata": {
        "colab": {
          "base_uri": "https://localhost:8080/",
          "height": 374
        },
        "id": "SgArR0KU-kQT",
        "outputId": "063ea069-92a4-4227-bfd4-8101c1caa645"
      },
      "execution_count": 32,
      "outputs": [
        {
          "output_type": "execute_result",
          "data": {
            "text/html": [
              "\n",
              "  <div id=\"df-b30abec8-217d-4916-a944-54af9916d31b\">\n",
              "    <div class=\"colab-df-container\">\n",
              "      <div>\n",
              "<style scoped>\n",
              "    .dataframe tbody tr th:only-of-type {\n",
              "        vertical-align: middle;\n",
              "    }\n",
              "\n",
              "    .dataframe tbody tr th {\n",
              "        vertical-align: top;\n",
              "    }\n",
              "\n",
              "    .dataframe thead th {\n",
              "        text-align: right;\n",
              "    }\n",
              "</style>\n",
              "<table border=\"1\" class=\"dataframe\">\n",
              "  <thead>\n",
              "    <tr style=\"text-align: right;\">\n",
              "      <th></th>\n",
              "      <th>Unnamed: 0</th>\n",
              "      <th>index</th>\n",
              "      <th>date</th>\n",
              "      <th>cheveux</th>\n",
              "      <th>age</th>\n",
              "      <th>exp</th>\n",
              "      <th>salaire</th>\n",
              "      <th>sexe</th>\n",
              "      <th>diplome</th>\n",
              "      <th>specialite</th>\n",
              "      <th>note</th>\n",
              "      <th>dispo</th>\n",
              "      <th>embauche</th>\n",
              "      <th>year</th>\n",
              "      <th>month</th>\n",
              "      <th>day</th>\n",
              "      <th>q_exp</th>\n",
              "      <th>q_age</th>\n",
              "      <th>q_note</th>\n",
              "      <th>q_salaire</th>\n",
              "    </tr>\n",
              "  </thead>\n",
              "  <tbody>\n",
              "    <tr>\n",
              "      <th>0</th>\n",
              "      <td>0</td>\n",
              "      <td>0</td>\n",
              "      <td>2012-06-02</td>\n",
              "      <td>roux</td>\n",
              "      <td>21.0</td>\n",
              "      <td>9.0</td>\n",
              "      <td>26803.0</td>\n",
              "      <td>F</td>\n",
              "      <td>licence</td>\n",
              "      <td>geologie</td>\n",
              "      <td>97.080002</td>\n",
              "      <td>non</td>\n",
              "      <td>0</td>\n",
              "      <td>2012</td>\n",
              "      <td>6</td>\n",
              "      <td>2</td>\n",
              "      <td>(8.0, 11.0]</td>\n",
              "      <td>(17.0, 21.0]</td>\n",
              "      <td>(87.0, 100.0]</td>\n",
              "      <td>(14127.0, 30776.0]</td>\n",
              "    </tr>\n",
              "    <tr>\n",
              "      <th>1</th>\n",
              "      <td>1</td>\n",
              "      <td>1</td>\n",
              "      <td>2011-04-21</td>\n",
              "      <td>blond</td>\n",
              "      <td>21.0</td>\n",
              "      <td>13.0</td>\n",
              "      <td>38166.0</td>\n",
              "      <td>M</td>\n",
              "      <td>licence</td>\n",
              "      <td>forage</td>\n",
              "      <td>63.860001</td>\n",
              "      <td>non</td>\n",
              "      <td>0</td>\n",
              "      <td>2011</td>\n",
              "      <td>4</td>\n",
              "      <td>21</td>\n",
              "      <td>(11.0, 21.0]</td>\n",
              "      <td>(17.0, 21.0]</td>\n",
              "      <td>(64.0, 75.0]</td>\n",
              "      <td>(36208.0, 39160.0]</td>\n",
              "    </tr>\n",
              "    <tr>\n",
              "      <th>2</th>\n",
              "      <td>2</td>\n",
              "      <td>2</td>\n",
              "      <td>2012-09-07</td>\n",
              "      <td>blond</td>\n",
              "      <td>21.0</td>\n",
              "      <td>13.0</td>\n",
              "      <td>35207.0</td>\n",
              "      <td>M</td>\n",
              "      <td>licence</td>\n",
              "      <td>geologie</td>\n",
              "      <td>78.500000</td>\n",
              "      <td>non</td>\n",
              "      <td>0</td>\n",
              "      <td>2012</td>\n",
              "      <td>9</td>\n",
              "      <td>7</td>\n",
              "      <td>(11.0, 21.0]</td>\n",
              "      <td>(17.0, 21.0]</td>\n",
              "      <td>(75.0, 87.0]</td>\n",
              "      <td>(33736.0, 36208.0]</td>\n",
              "    </tr>\n",
              "    <tr>\n",
              "      <th>3</th>\n",
              "      <td>3</td>\n",
              "      <td>3</td>\n",
              "      <td>2011-07-01</td>\n",
              "      <td>brun</td>\n",
              "      <td>21.0</td>\n",
              "      <td>12.0</td>\n",
              "      <td>32442.0</td>\n",
              "      <td>M</td>\n",
              "      <td>licence</td>\n",
              "      <td>geologie</td>\n",
              "      <td>45.090000</td>\n",
              "      <td>non</td>\n",
              "      <td>0</td>\n",
              "      <td>2011</td>\n",
              "      <td>7</td>\n",
              "      <td>1</td>\n",
              "      <td>(11.0, 21.0]</td>\n",
              "      <td>(17.0, 21.0]</td>\n",
              "      <td>(8.0, 64.0]</td>\n",
              "      <td>(30776.0, 33736.0]</td>\n",
              "    </tr>\n",
              "    <tr>\n",
              "      <th>4</th>\n",
              "      <td>4</td>\n",
              "      <td>4</td>\n",
              "      <td>2012-08-07</td>\n",
              "      <td>roux</td>\n",
              "      <td>21.0</td>\n",
              "      <td>6.0</td>\n",
              "      <td>28533.0</td>\n",
              "      <td>F</td>\n",
              "      <td>licence</td>\n",
              "      <td>detective</td>\n",
              "      <td>81.910004</td>\n",
              "      <td>non</td>\n",
              "      <td>0</td>\n",
              "      <td>2012</td>\n",
              "      <td>8</td>\n",
              "      <td>7</td>\n",
              "      <td>(-1.0, 8.0]</td>\n",
              "      <td>(17.0, 21.0]</td>\n",
              "      <td>(75.0, 87.0]</td>\n",
              "      <td>(14127.0, 30776.0]</td>\n",
              "    </tr>\n",
              "  </tbody>\n",
              "</table>\n",
              "</div>\n",
              "      <button class=\"colab-df-convert\" onclick=\"convertToInteractive('df-b30abec8-217d-4916-a944-54af9916d31b')\"\n",
              "              title=\"Convert this dataframe to an interactive table.\"\n",
              "              style=\"display:none;\">\n",
              "        \n",
              "  <svg xmlns=\"http://www.w3.org/2000/svg\" height=\"24px\"viewBox=\"0 0 24 24\"\n",
              "       width=\"24px\">\n",
              "    <path d=\"M0 0h24v24H0V0z\" fill=\"none\"/>\n",
              "    <path d=\"M18.56 5.44l.94 2.06.94-2.06 2.06-.94-2.06-.94-.94-2.06-.94 2.06-2.06.94zm-11 1L8.5 8.5l.94-2.06 2.06-.94-2.06-.94L8.5 2.5l-.94 2.06-2.06.94zm10 10l.94 2.06.94-2.06 2.06-.94-2.06-.94-.94-2.06-.94 2.06-2.06.94z\"/><path d=\"M17.41 7.96l-1.37-1.37c-.4-.4-.92-.59-1.43-.59-.52 0-1.04.2-1.43.59L10.3 9.45l-7.72 7.72c-.78.78-.78 2.05 0 2.83L4 21.41c.39.39.9.59 1.41.59.51 0 1.02-.2 1.41-.59l7.78-7.78 2.81-2.81c.8-.78.8-2.07 0-2.86zM5.41 20L4 18.59l7.72-7.72 1.47 1.35L5.41 20z\"/>\n",
              "  </svg>\n",
              "      </button>\n",
              "      \n",
              "  <style>\n",
              "    .colab-df-container {\n",
              "      display:flex;\n",
              "      flex-wrap:wrap;\n",
              "      gap: 12px;\n",
              "    }\n",
              "\n",
              "    .colab-df-convert {\n",
              "      background-color: #E8F0FE;\n",
              "      border: none;\n",
              "      border-radius: 50%;\n",
              "      cursor: pointer;\n",
              "      display: none;\n",
              "      fill: #1967D2;\n",
              "      height: 32px;\n",
              "      padding: 0 0 0 0;\n",
              "      width: 32px;\n",
              "    }\n",
              "\n",
              "    .colab-df-convert:hover {\n",
              "      background-color: #E2EBFA;\n",
              "      box-shadow: 0px 1px 2px rgba(60, 64, 67, 0.3), 0px 1px 3px 1px rgba(60, 64, 67, 0.15);\n",
              "      fill: #174EA6;\n",
              "    }\n",
              "\n",
              "    [theme=dark] .colab-df-convert {\n",
              "      background-color: #3B4455;\n",
              "      fill: #D2E3FC;\n",
              "    }\n",
              "\n",
              "    [theme=dark] .colab-df-convert:hover {\n",
              "      background-color: #434B5C;\n",
              "      box-shadow: 0px 1px 3px 1px rgba(0, 0, 0, 0.15);\n",
              "      filter: drop-shadow(0px 1px 2px rgba(0, 0, 0, 0.3));\n",
              "      fill: #FFFFFF;\n",
              "    }\n",
              "  </style>\n",
              "\n",
              "      <script>\n",
              "        const buttonEl =\n",
              "          document.querySelector('#df-b30abec8-217d-4916-a944-54af9916d31b button.colab-df-convert');\n",
              "        buttonEl.style.display =\n",
              "          google.colab.kernel.accessAllowed ? 'block' : 'none';\n",
              "\n",
              "        async function convertToInteractive(key) {\n",
              "          const element = document.querySelector('#df-b30abec8-217d-4916-a944-54af9916d31b');\n",
              "          const dataTable =\n",
              "            await google.colab.kernel.invokeFunction('convertToInteractive',\n",
              "                                                     [key], {});\n",
              "          if (!dataTable) return;\n",
              "\n",
              "          const docLinkHtml = 'Like what you see? Visit the ' +\n",
              "            '<a target=\"_blank\" href=https://colab.research.google.com/notebooks/data_table.ipynb>data table notebook</a>'\n",
              "            + ' to learn more about interactive tables.';\n",
              "          element.innerHTML = '';\n",
              "          dataTable['output_type'] = 'display_data';\n",
              "          await google.colab.output.renderOutput(dataTable, element);\n",
              "          const docLink = document.createElement('div');\n",
              "          docLink.innerHTML = docLinkHtml;\n",
              "          element.appendChild(docLink);\n",
              "        }\n",
              "      </script>\n",
              "    </div>\n",
              "  </div>\n",
              "  "
            ],
            "text/plain": [
              "   Unnamed: 0  index  ...         q_note           q_salaire\n",
              "0           0      0  ...  (87.0, 100.0]  (14127.0, 30776.0]\n",
              "1           1      1  ...   (64.0, 75.0]  (36208.0, 39160.0]\n",
              "2           2      2  ...   (75.0, 87.0]  (33736.0, 36208.0]\n",
              "3           3      3  ...    (8.0, 64.0]  (30776.0, 33736.0]\n",
              "4           4      4  ...   (75.0, 87.0]  (14127.0, 30776.0]\n",
              "\n",
              "[5 rows x 20 columns]"
            ]
          },
          "metadata": {},
          "execution_count": 32
        }
      ]
    },
    {
      "cell_type": "code",
      "source": [
        "categorical_features"
      ],
      "metadata": {
        "colab": {
          "base_uri": "https://localhost:8080/"
        },
        "id": "uM02gTuxDMuN",
        "outputId": "05704e59-a77a-494f-8c47-c2d72f7863f1"
      },
      "execution_count": 33,
      "outputs": [
        {
          "output_type": "execute_result",
          "data": {
            "text/plain": [
              "['date', 'cheveux', 'sexe', 'diplome', 'specialite', 'dispo']"
            ]
          },
          "metadata": {},
          "execution_count": 33
        }
      ]
    },
    {
      "cell_type": "code",
      "source": [
        "FEATURES = numerical_features + categorical_features + [\"q_exp\",\"q_age\",\"q_note\",'q_salaire']\n",
        "TARGET = \"embauche\"\n"
      ],
      "metadata": {
        "id": "fMzzTTxiDXEA"
      },
      "execution_count": 34,
      "outputs": []
    },
    {
      "cell_type": "code",
      "source": [
        "FEATURES"
      ],
      "metadata": {
        "colab": {
          "base_uri": "https://localhost:8080/"
        },
        "id": "CihV3xNxA_pG",
        "outputId": "06d998a6-bd40-4db1-ac9a-f4ab0764ec8a"
      },
      "execution_count": 35,
      "outputs": [
        {
          "output_type": "execute_result",
          "data": {
            "text/plain": [
              "['age',\n",
              " 'exp',\n",
              " 'salaire',\n",
              " 'note',\n",
              " 'year',\n",
              " 'month',\n",
              " 'day',\n",
              " 'date',\n",
              " 'cheveux',\n",
              " 'sexe',\n",
              " 'diplome',\n",
              " 'specialite',\n",
              " 'dispo',\n",
              " 'q_exp',\n",
              " 'q_age',\n",
              " 'q_note',\n",
              " 'q_salaire']"
            ]
          },
          "metadata": {},
          "execution_count": 35
        }
      ]
    },
    {
      "cell_type": "markdown",
      "source": [
        "## distribution des variables qualitatives en fonction de notre target \" embauche\":"
      ],
      "metadata": {
        "id": "n-0HSwSUAOFw"
      }
    },
    {
      "cell_type": "code",
      "source": [
        "plt.figure(figsize=(14,6))\n",
        "plt.hist(df[df[\"embauche\"]==1][\"age\"], edgecolor=\"k\",density=True, alpha=0.7, label = \"Embauché(e)\")\n",
        "plt.hist(df[df[\"embauche\"]==0][\"age\"], edgecolor=\"k\",density=True, alpha=0.7, label = \"Pas embauché(e)\")\n",
        "plt.xlabel(\"Age\")\n",
        "plt.ylabel(\"Frequence\")\n",
        "plt.legend()\n",
        "plt.show()"
      ],
      "metadata": {
        "colab": {
          "base_uri": "https://localhost:8080/",
          "height": 388
        },
        "id": "tQ62JQ4pBTSu",
        "outputId": "ee46a1be-336d-408c-d4a7-92541c2565d5"
      },
      "execution_count": 36,
      "outputs": [
        {
          "output_type": "display_data",
          "data": {
            "image/png": "[encoded data removed]",
            "text/plain": [
              "<Figure size 1008x432 with 1 Axes>"
            ]
          },
          "metadata": {
            "needs_background": "light"
          }
        }
      ]
    },
    {
      "cell_type": "markdown",
      "source": [
        ""
      ],
      "metadata": {
        "id": "GTPAm7jmAsUb"
      }
    },
    {
      "cell_type": "code",
      "source": [
        "plt.figure(figsize=(14,6))\n",
        "plt.hist(df[df[\"embauche\"]==1][\"exp\"], edgecolor=\"k\",density=True, alpha=0.7, label = \"Embauché\")\n",
        "plt.hist(df[df[\"embauche\"]==0][\"exp\"], edgecolor=\"k\",density=True, alpha=0.7, label = \"Pas embauché\")\n",
        "plt.xlabel(\"Experience\")\n",
        "plt.ylabel(\"Frequence\")\n",
        "plt.legend()\n",
        "plt.show()"
      ],
      "metadata": {
        "colab": {
          "base_uri": "https://localhost:8080/",
          "height": 388
        },
        "id": "Gcur9LETvqej",
        "outputId": "d9bb2add-1848-449e-dfa1-eeb6ec882a5c"
      },
      "execution_count": 37,
      "outputs": [
        {
          "output_type": "display_data",
          "data": {
            "image/png": "[encoded data removed]",
            "text/plain": [
              "<Figure size 1008x432 with 1 Axes>"
            ]
          },
          "metadata": {
            "needs_background": "light"
          }
        }
      ]
    },
    {
      "cell_type": "code",
      "source": [
        "from matplotlib.pyplot import figure\n",
        "figure(figsize=(10,6))\n",
        "sns.barplot(x='sexe',y=\"embauche\", data=df)\n",
        "plt.ylabel(\" Proportion\")\n",
        "plt.show()\n"
      ],
      "metadata": {
        "colab": {
          "base_uri": "https://localhost:8080/",
          "height": 388
        },
        "id": "-Q_EUkIQBUNf",
        "outputId": "c5fc6ddd-2807-45d5-cbe8-7e7498ff4277"
      },
      "execution_count": 38,
      "outputs": [
        {
          "output_type": "display_data",
          "data": {
            "image/png": "[encoded data removed]",
            "text/plain": [
              "<Figure size 720x432 with 1 Axes>"
            ]
          },
          "metadata": {
            "needs_background": "light"
          }
        }
      ]
    },
    {
      "cell_type": "code",
      "source": [
        "plt.figure(figsize=(14,6))\n",
        "plt.hist(df[df[\"embauche\"]==1][\"note\"], edgecolor=\"k\",density=True, alpha=0.7, label = \"Embauché\")\n",
        "plt.hist(df[df[\"embauche\"]==0][\"note\"], edgecolor=\"k\",density=True, alpha=0.7, label = \"Pas embauché\")\n",
        "plt.xlabel(\"Note\")\n",
        "plt.ylabel(\"Frequence\")\n",
        "plt.legend()\n",
        "plt.show()"
      ],
      "metadata": {
        "colab": {
          "base_uri": "https://localhost:8080/",
          "height": 388
        },
        "id": "lGIaTFyBvzPv",
        "outputId": "d575568f-b200-4930-e738-22fbbd4f52c5"
      },
      "execution_count": 39,
      "outputs": [
        {
          "output_type": "display_data",
          "data": {
            "image/png": "[encoded data removed]",
            "text/plain": [
              "<Figure size 1008x432 with 1 Axes>"
            ]
          },
          "metadata": {
            "needs_background": "light"
          }
        }
      ]
    },
    {
      "cell_type": "code",
      "source": [
        "plt.figure(figsize=(14,6))\n",
        "plt.hist(df[df[\"embauche\"]==1][\"salaire\"], edgecolor=\"k\",density=True, alpha=0.7, label = \"Embauché(e)\")\n",
        "plt.hist(df[df[\"embauche\"]==0][\"salaire\"], edgecolor=\"k\",density=True, alpha=0.7, label = \"Pas embauché(e)\")\n",
        "plt.xlabel(\"Salaire\")\n",
        "plt.ylabel(\"Frequency\")\n",
        "plt.legend()\n",
        "plt.show()"
      ],
      "metadata": {
        "colab": {
          "base_uri": "https://localhost:8080/",
          "height": 399
        },
        "id": "_6TMAiPrCN--",
        "outputId": "0df6cbe0-0e31-46b9-b687-6499c7d242e6"
      },
      "execution_count": 40,
      "outputs": [
        {
          "output_type": "display_data",
          "data": {
            "image/png": "[encoded data removed]",
            "text/plain": [
              "<Figure size 1008x432 with 1 Axes>"
            ]
          },
          "metadata": {
            "needs_background": "light"
          }
        }
      ]
    },
    {
      "cell_type": "code",
      "source": [
        "plt.figure(figsize=(14,6))\n",
        "sns.countplot(data=df, x=\"year\",hue=\"embauche\", edgecolor=\"k\")\n",
        "plt.xlabel(\"Year\")\n",
        "plt.ylabel(\"Count\")\n",
        "plt.show()"
      ],
      "metadata": {
        "colab": {
          "base_uri": "https://localhost:8080/",
          "height": 388
        },
        "id": "D7hv2gtxCP5z",
        "outputId": "51211410-5347-456c-d7e0-6d28f9217b59"
      },
      "execution_count": 41,
      "outputs": [
        {
          "output_type": "display_data",
          "data": {
            "image/png": "[encoded data removed]",
            "text/plain": [
              "<Figure size 1008x432 with 1 Axes>"
            ]
          },
          "metadata": {
            "needs_background": "light"
          }
        }
      ]
    },
    {
      "cell_type": "code",
      "source": [
        "plt.figure(figsize=(14,6))\n",
        "sns.countplot(data=df, x=\"month\",hue=\"embauche\", edgecolor=\"k\")\n",
        "plt.xlabel(\"Month\")\n",
        "plt.ylabel(\"Count\")\n",
        "plt.show()\n"
      ],
      "metadata": {
        "colab": {
          "base_uri": "https://localhost:8080/",
          "height": 388
        },
        "id": "XE6_t3B7CP7n",
        "outputId": "d5fc22da-131c-4863-a319-ee51f3a09edc"
      },
      "execution_count": 42,
      "outputs": [
        {
          "output_type": "display_data",
          "data": {
            "image/png": "[encoded data removed]",
            "text/plain": [
              "<Figure size 1008x432 with 1 Axes>"
            ]
          },
          "metadata": {
            "needs_background": "light"
          }
        }
      ]
    },
    {
      "cell_type": "code",
      "source": [
        "plt.figure(figsize=(14,6))\n",
        "sns.countplot(data=df, x=\"day\",hue=\"embauche\", edgecolor=\"k\")\n",
        "plt.xlabel(\"day\")\n",
        "plt.ylabel(\"Count\")\n",
        "plt.show()"
      ],
      "metadata": {
        "colab": {
          "base_uri": "https://localhost:8080/",
          "height": 388
        },
        "id": "d2GUDpyiCoEo",
        "outputId": "67120976-0a8e-4abf-b33f-3b49815ff853"
      },
      "execution_count": 43,
      "outputs": [
        {
          "output_type": "display_data",
          "data": {
            "image/png": "[encoded data removed]",
            "text/plain": [
              "<Figure size 1008x432 with 1 Axes>"
            ]
          },
          "metadata": {
            "needs_background": "light"
          }
        }
      ]
    },
    {
      "cell_type": "code",
      "source": [
        "plt.figure(figsize=(14,6))\n",
        "sns.countplot(data=df, x=\"cheveux\",hue=\"embauche\", edgecolor=\"k\")\n",
        "plt.xlabel(\"Cheveux\")\n",
        "plt.ylabel(\"Count\")\n",
        "plt.show()"
      ],
      "metadata": {
        "colab": {
          "base_uri": "https://localhost:8080/",
          "height": 388
        },
        "id": "5g3YBBhQCoIG",
        "outputId": "2a75b242-0a9f-43be-e3e1-2ff5945f17f5"
      },
      "execution_count": 44,
      "outputs": [
        {
          "output_type": "display_data",
          "data": {
            "image/png": "[encoded data removed]",
            "text/plain": [
              "<Figure size 1008x432 with 1 Axes>"
            ]
          },
          "metadata": {
            "needs_background": "light"
          }
        }
      ]
    },
    {
      "cell_type": "code",
      "source": [
        "plt.figure(figsize=(14,6))\n",
        "sns.countplot(data=df, x=\"diplome\",hue=\"embauche\", edgecolor=\"k\")\n",
        "plt.xlabel(\"Diplome\")\n",
        "plt.ylabel(\"Count\")\n",
        "plt.show()"
      ],
      "metadata": {
        "colab": {
          "base_uri": "https://localhost:8080/",
          "height": 388
        },
        "id": "y-zaWm6DCoKR",
        "outputId": "f3376cb5-7772-4bc0-c931-ee3066dd10bd"
      },
      "execution_count": 45,
      "outputs": [
        {
          "output_type": "display_data",
          "data": {
            "image/png": "[encoded data removed]",
            "text/plain": [
              "<Figure size 1008x432 with 1 Axes>"
            ]
          },
          "metadata": {
            "needs_background": "light"
          }
        }
      ]
    },
    {
      "cell_type": "code",
      "source": [
        "plt.figure(figsize=(14,6))\n",
        "sns.countplot(data=df, x=\"specialite\",hue=\"embauche\", edgecolor=\"k\")\n",
        "plt.xlabel(\"specialite\")\n",
        "plt.ylabel(\"Count\")\n",
        "plt.show()"
      ],
      "metadata": {
        "colab": {
          "base_uri": "https://localhost:8080/",
          "height": 388
        },
        "id": "Q4Sed8Y8CoNa",
        "outputId": "ee23b452-0c55-4744-c67b-3af052daf9f1"
      },
      "execution_count": 46,
      "outputs": [
        {
          "output_type": "display_data",
          "data": {
            "image/png": "[encoded data removed]",
            "text/plain": [
              "<Figure size 1008x432 with 1 Axes>"
            ]
          },
          "metadata": {
            "needs_background": "light"
          }
        }
      ]
    },
    {
      "cell_type": "code",
      "source": [
        "plt.figure(figsize=(14,6))\n",
        "sns.countplot(data=df, x=\"dispo\",hue=\"embauche\", edgecolor=\"k\")\n",
        "plt.xlabel(\"Dispo\")\n",
        "plt.ylabel(\"Count\")\n",
        "plt.show()"
      ],
      "metadata": {
        "colab": {
          "base_uri": "https://localhost:8080/",
          "height": 388
        },
        "id": "TWJLi3DiCoPu",
        "outputId": "6de49ef3-0d5c-4b58-8ace-fe22d98cfe4b"
      },
      "execution_count": 47,
      "outputs": [
        {
          "output_type": "display_data",
          "data": {
            "image/png": "[encoded data removed]",
            "text/plain": [
              "<Figure size 1008x432 with 1 Axes>"
            ]
          },
          "metadata": {
            "needs_background": "light"
          }
        }
      ]
    },
    {
      "cell_type": "markdown",
      "source": [
        "d'aprés les distributions affichées on peut dire que l'age des embauché varie entre 18 et 30 et le taux de refus des candidatures est trés grand pour l'age de 20-23 ans, plus le nombre d'années d'expériences est grand plus le taux d'embauche est grand et aprés 10 ans d'expériences les employés tendent à chercheche la stabilité, c'est le cas aussi pour le salaire.\n",
        "Le sexe n'influence pas la possibilité d'embauche ccar le pourcentage des embauches est le meme pour les deux \"M\" et \"F\""
      ],
      "metadata": {
        "id": "O44jva4KCxwd"
      }
    },
    {
      "cell_type": "markdown",
      "source": [
        "### 2/- Tests Statistiques: \n"
      ],
      "metadata": {
        "id": "2D2_v7HbicQV"
      }
    },
    {
      "cell_type": "markdown",
      "source": [
        "## a)- SPECIALITE / SEXE:\n",
        "- Hypothèse H0 : Pas de relation statistiquement significative"
      ],
      "metadata": {
        "id": "BghAMwYJGIfz"
      }
    },
    {
      "cell_type": "code",
      "source": [
        "data_forage =df[df[\"specialite\"]==\"forage\"]\n",
        "data_geologie = df[df[\"specialite\"]==\"geologie\"]\n",
        "data_detective =df[df[\"specialite\"]==\"detective\"]\n",
        "data_archeologie =df[df[\"specialite\"]==\"archeologie\"]\n",
        "stat, p_value = scipy.stats.kruskal(data_forage[\"sexe\"], data_geologie[\"sexe\"],data_detective[\"sexe\"] ,\n",
        "                                    data_archeologie[\"sexe\"])\n",
        "\n",
        "print('Statistics=%.3f, p_value=%.3f' % (stat, p_value))\n",
        "# interpret\n",
        "alpha = 0.05\n",
        "if p_value > alpha:\n",
        "    print('Même distributions (Hypothèse H0 non rejetée)')\n",
        "else:\n",
        "    print('Distributions différentes (Hypothèse H0 rejetée)')"
      ],
      "metadata": {
        "colab": {
          "base_uri": "https://localhost:8080/"
        },
        "id": "aUa-7URSGLI3",
        "outputId": "60954164-02fa-42d2-fbf4-a2363aaab9ce"
      },
      "execution_count": 48,
      "outputs": [
        {
          "output_type": "stream",
          "name": "stdout",
          "text": [
            "Statistics=2687.315, p_value=0.000\n",
            "Distributions différentes (Hypothèse H0 rejetée)\n"
          ]
        }
      ]
    },
    {
      "cell_type": "markdown",
      "source": [
        "## b)- CHEVEUX / SALAIRE\n",
        "- Hypothèse H0 : Pas de relation statistiquement significative"
      ],
      "metadata": {
        "id": "z-pO-ALrin8a"
      }
    },
    {
      "cell_type": "code",
      "source": [
        "data_blond =df[df[\"cheveux\"]==\"blond\"]\n",
        "data_brun = df[df[\"cheveux\"]==\"brun\"]\n",
        "data_roux =df[df[\"cheveux\"]==\"roux\"]\n",
        "data_chatain =df[df[\"cheveux\"]==\"chatain\"]\n",
        "stat, p_value = scipy.stats.kruskal(data_blond[\"salaire\"], data_brun[\"salaire\"],data_roux[\"salaire\"] ,data_chatain[\"salaire\"])\n",
        "\n",
        "print('Statistics=%.3f, p_value=%.3f' % (stat, p_value))\n",
        "alpha = 0.05\n",
        "if p_value > alpha:\n",
        "    print('Même distributions (Hypothèse H0 non rejetée)')\n",
        "else:\n",
        "    print('Distributions différentes (Hypothèse H0 rejetée)')"
      ],
      "metadata": {
        "colab": {
          "base_uri": "https://localhost:8080/"
        },
        "id": "CoHMBZpKCoef",
        "outputId": "8f43e5a7-c596-4ec1-ee41-49c9622cd405"
      },
      "execution_count": 49,
      "outputs": [
        {
          "output_type": "stream",
          "name": "stdout",
          "text": [
            "Statistics=82.139, p_value=0.000\n",
            "Distributions différentes (Hypothèse H0 rejetée)\n"
          ]
        }
      ]
    },
    {
      "cell_type": "markdown",
      "source": [
        "## c)- EXP / NOTE\n",
        "- Hypothèse H0 : Pas de relation statistiquement significative"
      ],
      "metadata": {
        "id": "U-xvIk52jJ4O"
      }
    },
    {
      "cell_type": "code",
      "source": [
        "data_exp =df[\"exp\"]\n",
        "data_note = df[\"note\"]\n",
        "stat, p_value = scipy.stats.kruskal(data_exp, data_note)\n",
        "\n",
        "print('Statistics=%.3f, p_value=%.3f' % (stat, p_value))\n",
        "# interpret\n",
        "alpha = 0.05\n",
        "if p_value > alpha:\n",
        "    print('Même distributions (Hypothèse H0 non rejetée)')\n",
        "else:\n",
        "    print('Distributions différentes (Hypothèse H0 rejetée)')"
      ],
      "metadata": {
        "colab": {
          "base_uri": "https://localhost:8080/"
        },
        "id": "-ykImsO2CP_c",
        "outputId": "e6a8a6aa-f864-44e1-9fb7-0e8c73232152"
      },
      "execution_count": 50,
      "outputs": [
        {
          "output_type": "stream",
          "name": "stdout",
          "text": [
            "Statistics=30025.504, p_value=0.000\n",
            "Distributions différentes (Hypothèse H0 rejetée)\n"
          ]
        }
      ]
    },
    {
      "cell_type": "code",
      "source": [
        "plt.figure(dpi=150)\n",
        "sns.heatmap(df.corr('spearman'),annot=False,cmap='rocket',lw=1);"
      ],
      "metadata": {
        "colab": {
          "base_uri": "https://localhost:8080/",
          "height": 650
        },
        "id": "n8Qv_GoLjLRf",
        "outputId": "43b431a1-3786-4b12-8927-c7b7487ff5b4"
      },
      "execution_count": 51,
      "outputs": [
        {
          "output_type": "display_data",
          "data": {
            "image/png": "[encoded data removed]",
            "text/plain": [
              "<Figure size 900x600 with 2 Axes>"
            ]
          },
          "metadata": {
            "needs_background": "light"
          }
        }
      ]
    },
    {
      "cell_type": "markdown",
      "source": [
        "Aucune corrélation élevée a été trouvée donc on n'a pas une redondance de l'information"
      ],
      "metadata": {
        "id": "aqQQ9i2fGYdF"
      }
    },
    {
      "cell_type": "code",
      "source": [
        "def test_chi_2(QualVar,target,alpha):\n",
        "    QualVar = pd.DataFrame(QualVar)\n",
        "    liste_chi2 = []\n",
        "    liste_chi2_name = []\n",
        "    # ici on créé le tableau de contingence pour réaliser notre test :\n",
        "    for i in range(len(list(QualVar.columns))):\n",
        "        table = pd.crosstab(QualVar[list(QualVar.columns)[i]],QualVar[target])\n",
        "        stat, p, dof, expected = chi2_contingency(table)\n",
        "        if p <= alpha:\n",
        "            liste_chi2.append(i)\n",
        "        else:\n",
        "            pass\n",
        "    for j in liste_chi2:\n",
        "        liste_chi2_name.append([i.encode('ascii', 'ignore') for i in QualVar.columns][j])\n",
        "    return liste_chi2_name"
      ],
      "metadata": {
        "id": "P-bHnqjqjbXE"
      },
      "execution_count": 52,
      "outputs": []
    },
    {
      "cell_type": "markdown",
      "source": [
        "Les variables listées ont une p_value < 5% et donc présente une significativité statistique pour expliquer la TARGET"
      ],
      "metadata": {
        "id": "CKwe-MC7jrh-"
      }
    },
    {
      "cell_type": "code",
      "source": [
        "liste_chi2_name = test_chi_2(df,\"embauche\",0.05)\n",
        "liste_chi2_name"
      ],
      "metadata": {
        "colab": {
          "base_uri": "https://localhost:8080/"
        },
        "id": "f-ROl4bljj9s",
        "outputId": "4745066b-daae-4116-c3b1-53e8d24f8383"
      },
      "execution_count": 53,
      "outputs": [
        {
          "output_type": "execute_result",
          "data": {
            "text/plain": [
              "[b'age',\n",
              " b'sexe',\n",
              " b'diplome',\n",
              " b'specialite',\n",
              " b'embauche',\n",
              " b'year',\n",
              " b'q_age',\n",
              " b'q_salaire']"
            ]
          },
          "metadata": {},
          "execution_count": 53
        }
      ]
    },
    {
      "cell_type": "markdown",
      "source": [
        "# 3.<span style=\"color:green\"> PREPROCESSING </span>"
      ],
      "metadata": {
        "id": "miizDKhojtnl"
      }
    },
    {
      "cell_type": "markdown",
      "source": [
        "### 3.1<span style=\"color:black\">  Label Encoding </span>"
      ],
      "metadata": {
        "id": "4NDcyTQPjv0N"
      }
    },
    {
      "cell_type": "markdown",
      "source": [
        "**Le choix s'est porté sur le label encoding pour éviter une augumentation de la dimension créée par le One hot encoding par exemple, et ce pour plus de performance lors des Tunnings des hyperparamètres**"
      ],
      "metadata": {
        "id": "k2XBq6MUjzLn"
      }
    },
    {
      "cell_type": "code",
      "source": [
        "df_c=df.copy()"
      ],
      "metadata": {
        "id": "LXw3kXQJjuCw"
      },
      "execution_count": 83,
      "outputs": []
    },
    {
      "cell_type": "code",
      "source": [
        "label_encoder = preprocessing.LabelEncoder()\n",
        "df_c[categorical_features]=df[categorical_features].apply(label_encoder.fit_transform)\n",
        "df_c[[\"q_exp\",\"q_age\",\"q_note\",'q_salaire']] = df[[\"q_exp\",\"q_age\",\"q_note\",'q_salaire']].apply(label_encoder.fit_transform)\n",
        "df_c[TARGET]=df[TARGET]"
      ],
      "metadata": {
        "id": "nACTC2GQkWC-"
      },
      "execution_count": 84,
      "outputs": []
    },
    {
      "cell_type": "markdown",
      "source": [
        "### 3.2<span style=\"color:black\"> Transformation du type </span>"
      ],
      "metadata": {
        "id": "USiLXTo7kjOj"
      }
    },
    {
      "cell_type": "code",
      "source": [
        "df_c.info()"
      ],
      "metadata": {
        "colab": {
          "base_uri": "https://localhost:8080/"
        },
        "id": "NWVR3GKDk2AA",
        "outputId": "3c2148b5-b4a8-48c3-bf4a-0af77b3399ba"
      },
      "execution_count": 85,
      "outputs": [
        {
          "output_type": "stream",
          "name": "stdout",
          "text": [
            "<class 'pandas.core.frame.DataFrame'>\n",
            "RangeIndex: 20000 entries, 0 to 19999\n",
            "Data columns (total 20 columns):\n",
            " #   Column      Non-Null Count  Dtype  \n",
            "---  ------      --------------  -----  \n",
            " 0   Unnamed: 0  20000 non-null  int64  \n",
            " 1   index       20000 non-null  int64  \n",
            " 2   date        20000 non-null  int64  \n",
            " 3   cheveux     20000 non-null  int64  \n",
            " 4   age         20000 non-null  float32\n",
            " 5   exp         20000 non-null  float32\n",
            " 6   salaire     20000 non-null  float32\n",
            " 7   sexe        20000 non-null  int64  \n",
            " 8   diplome     20000 non-null  int64  \n",
            " 9   specialite  20000 non-null  int64  \n",
            " 10  note        20000 non-null  float32\n",
            " 11  dispo       20000 non-null  int64  \n",
            " 12  embauche    20000 non-null  int64  \n",
            " 13  year        20000 non-null  int64  \n",
            " 14  month       20000 non-null  int64  \n",
            " 15  day         20000 non-null  int64  \n",
            " 16  q_exp       20000 non-null  int64  \n",
            " 17  q_age       20000 non-null  int64  \n",
            " 18  q_note      20000 non-null  int64  \n",
            " 19  q_salaire   20000 non-null  int64  \n",
            "dtypes: float32(4), int64(16)\n",
            "memory usage: 2.7 MB\n"
          ]
        }
      ]
    },
    {
      "cell_type": "code",
      "source": [
        "df_c['age'] = df_c['age'].astype(np.uint8)\n",
        "df_c['exp'] = df_c['exp'].astype(np.uint8)\n",
        "df_c['salaire'] = df_c['salaire'].astype(np.uint8)\n",
        "df_c['cheveux'] = df_c['cheveux'].astype(np.uint8)\n",
        "df_c['note'] = df_c['note'].astype(np.float16)\n",
        "df_c['sexe'] = df_c['sexe'].astype(np.uint8)\n",
        "df_c['diplome'] = df_c['diplome'].astype(np.uint8)\n",
        "df_c['specialite'] = df_c['specialite'].astype(np.uint8)\n",
        "df_c['dispo'] = df_c['dispo'].astype(np.uint8)\n",
        "df_c['year'] = df_c['year'].astype(np.int16)\n",
        "df_c['month'] = df_c['month'].astype(np.int16)\n",
        "df_c['day'] = df_c['day'].astype(np.int16)\n",
        "df_c['q_exp'] = df_c['q_exp'].astype(np.int16)\n",
        "df_c['q_age'] = df_c['q_age'].astype(np.int16)\n",
        "df_c['q_salaire'] = df_c['q_salaire'].astype(np.int16)    \n",
        "df_c['q_note'] = df_c['q_note'].astype(np.int16) "
      ],
      "metadata": {
        "id": "xDFNww9okYQ0"
      },
      "execution_count": 86,
      "outputs": []
    },
    {
      "cell_type": "markdown",
      "source": [
        "### 3.3<span style=\"color:black\"> Train/Test Split </span>"
      ],
      "metadata": {
        "id": "3wZVTOqrktLg"
      }
    },
    {
      "cell_type": "code",
      "source": [
        "train = df_c.loc[~df_c[TARGET].isna()]"
      ],
      "metadata": {
        "id": "vfL6K1U7knER"
      },
      "execution_count": 87,
      "outputs": []
    },
    {
      "cell_type": "code",
      "source": [
        ""
      ],
      "metadata": {
        "id": "VmpUucgbonlk"
      },
      "execution_count": 87,
      "outputs": []
    },
    {
      "cell_type": "markdown",
      "source": [
        "### 3.4<span style=\"color:black\"> Oversampling de la classe minoritaire \"embauche = 1\" </span>"
      ],
      "metadata": {
        "id": "MEofpu0pl74_"
      }
    },
    {
      "cell_type": "markdown",
      "source": [
        "**Le SMOTETomek procédera à la création de valeurs synthétiques similaires aux vraies valeurs présentes dans le dataset avec une Embauche = 1**"
      ],
      "metadata": {
        "id": "tn3KGqb3l9yC"
      }
    },
    {
      "cell_type": "code",
      "source": [
        "from imblearn.combine import SMOTETomek"
      ],
      "metadata": {
        "id": "0b_8dTABkv8z"
      },
      "execution_count": 62,
      "outputs": []
    },
    {
      "cell_type": "code",
      "source": [
        "smotetomek_X = train[FEATURES]\n",
        "smotetomek_Y = train[TARGET]"
      ],
      "metadata": {
        "id": "OyBAMhMpl_v_"
      },
      "execution_count": 88,
      "outputs": []
    },
    {
      "cell_type": "code",
      "source": [
        "print ((smotetomek_Y == 1).sum())\n",
        "print ((smotetomek_Y == 0).sum())"
      ],
      "metadata": {
        "colab": {
          "base_uri": "https://localhost:8080/"
        },
        "id": "MLUQ94ZumUBn",
        "outputId": "71fcfe26-4798-49fc-d3c7-90590b815567"
      },
      "execution_count": 89,
      "outputs": [
        {
          "output_type": "stream",
          "name": "stdout",
          "text": [
            "2292\n",
            "17708\n"
          ]
        }
      ]
    },
    {
      "cell_type": "code",
      "source": [
        "smote_tomek = SMOTETomek(random_state=68, sampling_strategy=0.99) #La classe 1 sera 99% de la classe 0\n",
        "X_resampled, y_resampled = smote_tomek.fit_resample(train[FEATURES], train[TARGET])\n",
        "smotetomek_X = pd.DataFrame(data = X_resampled,columns=FEATURES)\n",
        "smotetomek_Y = pd.DataFrame(data = y_resampled,columns=['embauche'])"
      ],
      "metadata": {
        "id": "FxPE8JASmAUj"
      },
      "execution_count": 90,
      "outputs": []
    },
    {
      "cell_type": "code",
      "source": [
        "print ((smotetomek_Y['embauche'] == 1).sum())\n",
        "print ((smotetomek_Y['embauche'] == 0).sum())"
      ],
      "metadata": {
        "colab": {
          "base_uri": "https://localhost:8080/"
        },
        "id": "UgExd6THmAWV",
        "outputId": "368b088f-dc5c-4139-abe9-0e39bbbdb0f9"
      },
      "execution_count": 91,
      "outputs": [
        {
          "output_type": "stream",
          "name": "stdout",
          "text": [
            "17196\n",
            "17374\n"
          ]
        }
      ]
    },
    {
      "cell_type": "code",
      "source": [
        "data_X = smotetomek_X.copy()\n",
        "data_Y = smotetomek_Y.copy()"
      ],
      "metadata": {
        "id": "RgkyBA9ImAYu"
      },
      "execution_count": 92,
      "outputs": []
    },
    {
      "cell_type": "code",
      "source": [
        "data_X = data_X[FEATURES]\n",
        "data_Y = data_Y[TARGET]\n"
      ],
      "metadata": {
        "id": "SgkxWsJ_mAbi"
      },
      "execution_count": 93,
      "outputs": []
    },
    {
      "cell_type": "code",
      "source": [
        "data = pd.concat([data_X,data_Y], axis= 1)"
      ],
      "metadata": {
        "id": "-jAgsKVPmAfN"
      },
      "execution_count": 94,
      "outputs": []
    },
    {
      "cell_type": "markdown",
      "source": [
        "**Distribution de la target après Oversampling**"
      ],
      "metadata": {
        "id": "V2L_H32hm39x"
      }
    },
    {
      "cell_type": "code",
      "source": [
        "data_Y.value_counts().plot(kind='pie',title= 'distribution de la Target', autopct='%.f%%', legend = False, figsize=(12,6), fontsize=12,explode = [0, 0.2]);"
      ],
      "metadata": {
        "colab": {
          "base_uri": "https://localhost:8080/",
          "height": 386
        },
        "id": "C4gotikwm1ht",
        "outputId": "d3c807bc-c93b-4da5-bc92-e73fb6449011"
      },
      "execution_count": 95,
      "outputs": [
        {
          "output_type": "display_data",
          "data": {
            "image/png": "[encoded data removed]",
            "text/plain": [
              "<Figure size 864x432 with 1 Axes>"
            ]
          },
          "metadata": {}
        }
      ]
    },
    {
      "cell_type": "markdown",
      "source": [
        "### 3.4<span style=\"color:black\"> Standardisation des données</span>"
      ],
      "metadata": {
        "id": "5Zbk-_wjm7Db"
      }
    },
    {
      "cell_type": "markdown",
      "source": [
        "### Remarque : \n",
        "\n",
        "La standardisation des données n'est pas nécessaire quand on utilise des algorithmes d'apprentissage non sensibles à l'amplitude des variables tels que\n",
        "- La régression logistique\n",
        "- Le Random Forest\n",
        "- Les modèles de Gradient boosting\n",
        "\n",
        "Hors dans ce projet, on utilisera aussi le SVC, DTC & KNN qui eux sont sensibles à l'amplitude des variables"
      ],
      "metadata": {
        "id": "RiQTi8lEnAPI"
      }
    },
    {
      "cell_type": "code",
      "source": [
        "data.describe()"
      ],
      "metadata": {
        "colab": {
          "base_uri": "https://localhost:8080/",
          "height": 364
        },
        "id": "eXHBSwCNm4nJ",
        "outputId": "dccb905d-a155-40ca-ce4e-b03cbb4e00c3"
      },
      "execution_count": 96,
      "outputs": [
        {
          "output_type": "execute_result",
          "data": {
            "text/html": [
              "\n",
              "  <div id=\"df-80fdd0db-ea5c-45f9-b2f5-8ccfc968185b\">\n",
              "    <div class=\"colab-df-container\">\n",
              "      <div>\n",
              "<style scoped>\n",
              "    .dataframe tbody tr th:only-of-type {\n",
              "        vertical-align: middle;\n",
              "    }\n",
              "\n",
              "    .dataframe tbody tr th {\n",
              "        vertical-align: top;\n",
              "    }\n",
              "\n",
              "    .dataframe thead th {\n",
              "        text-align: right;\n",
              "    }\n",
              "</style>\n",
              "<table border=\"1\" class=\"dataframe\">\n",
              "  <thead>\n",
              "    <tr style=\"text-align: right;\">\n",
              "      <th></th>\n",
              "      <th>age</th>\n",
              "      <th>exp</th>\n",
              "      <th>salaire</th>\n",
              "      <th>note</th>\n",
              "      <th>year</th>\n",
              "      <th>month</th>\n",
              "      <th>day</th>\n",
              "      <th>date</th>\n",
              "      <th>cheveux</th>\n",
              "      <th>sexe</th>\n",
              "      <th>diplome</th>\n",
              "      <th>specialite</th>\n",
              "      <th>dispo</th>\n",
              "      <th>q_exp</th>\n",
              "      <th>q_age</th>\n",
              "      <th>q_note</th>\n",
              "      <th>q_salaire</th>\n",
              "      <th>embauche</th>\n",
              "    </tr>\n",
              "  </thead>\n",
              "  <tbody>\n",
              "    <tr>\n",
              "      <th>count</th>\n",
              "      <td>34570.000000</td>\n",
              "      <td>34570.000000</td>\n",
              "      <td>34570.000000</td>\n",
              "      <td>3.457000e+04</td>\n",
              "      <td>34570.000000</td>\n",
              "      <td>34570.000000</td>\n",
              "      <td>34570.000000</td>\n",
              "      <td>34570.000000</td>\n",
              "      <td>34570.000000</td>\n",
              "      <td>34570.000000</td>\n",
              "      <td>34570.000000</td>\n",
              "      <td>34570.000000</td>\n",
              "      <td>34570.000000</td>\n",
              "      <td>34570.000000</td>\n",
              "      <td>34570.000000</td>\n",
              "      <td>34570.000000</td>\n",
              "      <td>34570.000000</td>\n",
              "      <td>34570.000000</td>\n",
              "    </tr>\n",
              "    <tr>\n",
              "      <th>mean</th>\n",
              "      <td>22.084756</td>\n",
              "      <td>9.334452</td>\n",
              "      <td>127.299277</td>\n",
              "      <td>inf</td>\n",
              "      <td>2012.023662</td>\n",
              "      <td>6.470755</td>\n",
              "      <td>15.231154</td>\n",
              "      <td>921.956349</td>\n",
              "      <td>1.050362</td>\n",
              "      <td>0.533613</td>\n",
              "      <td>1.932890</td>\n",
              "      <td>1.989876</td>\n",
              "      <td>0.316604</td>\n",
              "      <td>0.744489</td>\n",
              "      <td>0.503789</td>\n",
              "      <td>1.378421</td>\n",
              "      <td>1.831819</td>\n",
              "      <td>0.497426</td>\n",
              "    </tr>\n",
              "    <tr>\n",
              "      <th>std</th>\n",
              "      <td>2.462797</td>\n",
              "      <td>2.774678</td>\n",
              "      <td>73.588082</td>\n",
              "      <td>1.484375e+01</td>\n",
              "      <td>1.393927</td>\n",
              "      <td>3.442485</td>\n",
              "      <td>8.288783</td>\n",
              "      <td>518.474570</td>\n",
              "      <td>0.920788</td>\n",
              "      <td>0.498876</td>\n",
              "      <td>0.927751</td>\n",
              "      <td>1.002131</td>\n",
              "      <td>0.465158</td>\n",
              "      <td>0.731509</td>\n",
              "      <td>0.641231</td>\n",
              "      <td>1.072666</td>\n",
              "      <td>1.304494</td>\n",
              "      <td>0.500001</td>\n",
              "    </tr>\n",
              "    <tr>\n",
              "      <th>min</th>\n",
              "      <td>18.000000</td>\n",
              "      <td>0.000000</td>\n",
              "      <td>0.000000</td>\n",
              "      <td>8.679688e+00</td>\n",
              "      <td>2010.000000</td>\n",
              "      <td>1.000000</td>\n",
              "      <td>1.000000</td>\n",
              "      <td>0.000000</td>\n",
              "      <td>0.000000</td>\n",
              "      <td>0.000000</td>\n",
              "      <td>0.000000</td>\n",
              "      <td>0.000000</td>\n",
              "      <td>0.000000</td>\n",
              "      <td>0.000000</td>\n",
              "      <td>0.000000</td>\n",
              "      <td>0.000000</td>\n",
              "      <td>0.000000</td>\n",
              "      <td>0.000000</td>\n",
              "    </tr>\n",
              "    <tr>\n",
              "      <th>25%</th>\n",
              "      <td>21.000000</td>\n",
              "      <td>7.000000</td>\n",
              "      <td>64.000000</td>\n",
              "      <td>6.487500e+01</td>\n",
              "      <td>2011.000000</td>\n",
              "      <td>3.000000</td>\n",
              "      <td>8.000000</td>\n",
              "      <td>483.000000</td>\n",
              "      <td>0.000000</td>\n",
              "      <td>0.000000</td>\n",
              "      <td>1.000000</td>\n",
              "      <td>1.000000</td>\n",
              "      <td>0.000000</td>\n",
              "      <td>0.000000</td>\n",
              "      <td>0.000000</td>\n",
              "      <td>0.000000</td>\n",
              "      <td>1.000000</td>\n",
              "      <td>0.000000</td>\n",
              "    </tr>\n",
              "    <tr>\n",
              "      <th>50%</th>\n",
              "      <td>22.000000</td>\n",
              "      <td>9.000000</td>\n",
              "      <td>127.000000</td>\n",
              "      <td>7.500000e+01</td>\n",
              "      <td>2012.000000</td>\n",
              "      <td>6.000000</td>\n",
              "      <td>15.000000</td>\n",
              "      <td>921.000000</td>\n",
              "      <td>1.000000</td>\n",
              "      <td>1.000000</td>\n",
              "      <td>2.000000</td>\n",
              "      <td>2.000000</td>\n",
              "      <td>0.000000</td>\n",
              "      <td>1.000000</td>\n",
              "      <td>0.000000</td>\n",
              "      <td>1.000000</td>\n",
              "      <td>2.000000</td>\n",
              "      <td>0.000000</td>\n",
              "    </tr>\n",
              "    <tr>\n",
              "      <th>75%</th>\n",
              "      <td>23.000000</td>\n",
              "      <td>11.000000</td>\n",
              "      <td>190.000000</td>\n",
              "      <td>8.568750e+01</td>\n",
              "      <td>2013.000000</td>\n",
              "      <td>9.000000</td>\n",
              "      <td>22.000000</td>\n",
              "      <td>1365.000000</td>\n",
              "      <td>2.000000</td>\n",
              "      <td>1.000000</td>\n",
              "      <td>3.000000</td>\n",
              "      <td>3.000000</td>\n",
              "      <td>1.000000</td>\n",
              "      <td>1.000000</td>\n",
              "      <td>1.000000</td>\n",
              "      <td>2.000000</td>\n",
              "      <td>3.000000</td>\n",
              "      <td>1.000000</td>\n",
              "    </tr>\n",
              "    <tr>\n",
              "      <th>max</th>\n",
              "      <td>59.000000</td>\n",
              "      <td>21.000000</td>\n",
              "      <td>255.000000</td>\n",
              "      <td>1.000000e+02</td>\n",
              "      <td>2014.000000</td>\n",
              "      <td>12.000000</td>\n",
              "      <td>31.000000</td>\n",
              "      <td>1825.000000</td>\n",
              "      <td>3.000000</td>\n",
              "      <td>1.000000</td>\n",
              "      <td>3.000000</td>\n",
              "      <td>3.000000</td>\n",
              "      <td>1.000000</td>\n",
              "      <td>2.000000</td>\n",
              "      <td>2.000000</td>\n",
              "      <td>3.000000</td>\n",
              "      <td>4.000000</td>\n",
              "      <td>1.000000</td>\n",
              "    </tr>\n",
              "  </tbody>\n",
              "</table>\n",
              "</div>\n",
              "      <button class=\"colab-df-convert\" onclick=\"convertToInteractive('df-80fdd0db-ea5c-45f9-b2f5-8ccfc968185b')\"\n",
              "              title=\"Convert this dataframe to an interactive table.\"\n",
              "              style=\"display:none;\">\n",
              "        \n",
              "  <svg xmlns=\"http://www.w3.org/2000/svg\" height=\"24px\"viewBox=\"0 0 24 24\"\n",
              "       width=\"24px\">\n",
              "    <path d=\"M0 0h24v24H0V0z\" fill=\"none\"/>\n",
              "    <path d=\"M18.56 5.44l.94 2.06.94-2.06 2.06-.94-2.06-.94-.94-2.06-.94 2.06-2.06.94zm-11 1L8.5 8.5l.94-2.06 2.06-.94-2.06-.94L8.5 2.5l-.94 2.06-2.06.94zm10 10l.94 2.06.94-2.06 2.06-.94-2.06-.94-.94-2.06-.94 2.06-2.06.94z\"/><path d=\"M17.41 7.96l-1.37-1.37c-.4-.4-.92-.59-1.43-.59-.52 0-1.04.2-1.43.59L10.3 9.45l-7.72 7.72c-.78.78-.78 2.05 0 2.83L4 21.41c.39.39.9.59 1.41.59.51 0 1.02-.2 1.41-.59l7.78-7.78 2.81-2.81c.8-.78.8-2.07 0-2.86zM5.41 20L4 18.59l7.72-7.72 1.47 1.35L5.41 20z\"/>\n",
              "  </svg>\n",
              "      </button>\n",
              "      \n",
              "  <style>\n",
              "    .colab-df-container {\n",
              "      display:flex;\n",
              "      flex-wrap:wrap;\n",
              "      gap: 12px;\n",
              "    }\n",
              "\n",
              "    .colab-df-convert {\n",
              "      background-color: #E8F0FE;\n",
              "      border: none;\n",
              "      border-radius: 50%;\n",
              "      cursor: pointer;\n",
              "      display: none;\n",
              "      fill: #1967D2;\n",
              "      height: 32px;\n",
              "      padding: 0 0 0 0;\n",
              "      width: 32px;\n",
              "    }\n",
              "\n",
              "    .colab-df-convert:hover {\n",
              "      background-color: #E2EBFA;\n",
              "      box-shadow: 0px 1px 2px rgba(60, 64, 67, 0.3), 0px 1px 3px 1px rgba(60, 64, 67, 0.15);\n",
              "      fill: #174EA6;\n",
              "    }\n",
              "\n",
              "    [theme=dark] .colab-df-convert {\n",
              "      background-color: #3B4455;\n",
              "      fill: #D2E3FC;\n",
              "    }\n",
              "\n",
              "    [theme=dark] .colab-df-convert:hover {\n",
              "      background-color: #434B5C;\n",
              "      box-shadow: 0px 1px 3px 1px rgba(0, 0, 0, 0.15);\n",
              "      filter: drop-shadow(0px 1px 2px rgba(0, 0, 0, 0.3));\n",
              "      fill: #FFFFFF;\n",
              "    }\n",
              "  </style>\n",
              "\n",
              "      <script>\n",
              "        const buttonEl =\n",
              "          document.querySelector('#df-80fdd0db-ea5c-45f9-b2f5-8ccfc968185b button.colab-df-convert');\n",
              "        buttonEl.style.display =\n",
              "          google.colab.kernel.accessAllowed ? 'block' : 'none';\n",
              "\n",
              "        async function convertToInteractive(key) {\n",
              "          const element = document.querySelector('#df-80fdd0db-ea5c-45f9-b2f5-8ccfc968185b');\n",
              "          const dataTable =\n",
              "            await google.colab.kernel.invokeFunction('convertToInteractive',\n",
              "                                                     [key], {});\n",
              "          if (!dataTable) return;\n",
              "\n",
              "          const docLinkHtml = 'Like what you see? Visit the ' +\n",
              "            '<a target=\"_blank\" href=https://colab.research.google.com/notebooks/data_table.ipynb>data table notebook</a>'\n",
              "            + ' to learn more about interactive tables.';\n",
              "          element.innerHTML = '';\n",
              "          dataTable['output_type'] = 'display_data';\n",
              "          await google.colab.output.renderOutput(dataTable, element);\n",
              "          const docLink = document.createElement('div');\n",
              "          docLink.innerHTML = docLinkHtml;\n",
              "          element.appendChild(docLink);\n",
              "        }\n",
              "      </script>\n",
              "    </div>\n",
              "  </div>\n",
              "  "
            ],
            "text/plain": [
              "                age           exp  ...     q_salaire      embauche\n",
              "count  34570.000000  34570.000000  ...  34570.000000  34570.000000\n",
              "mean      22.084756      9.334452  ...      1.831819      0.497426\n",
              "std        2.462797      2.774678  ...      1.304494      0.500001\n",
              "min       18.000000      0.000000  ...      0.000000      0.000000\n",
              "25%       21.000000      7.000000  ...      1.000000      0.000000\n",
              "50%       22.000000      9.000000  ...      2.000000      0.000000\n",
              "75%       23.000000     11.000000  ...      3.000000      1.000000\n",
              "max       59.000000     21.000000  ...      4.000000      1.000000\n",
              "\n",
              "[8 rows x 18 columns]"
            ]
          },
          "metadata": {},
          "execution_count": 96
        }
      ]
    },
    {
      "cell_type": "code",
      "source": [
        "data.shape"
      ],
      "metadata": {
        "colab": {
          "base_uri": "https://localhost:8080/"
        },
        "id": "63Lx_NvytDk8",
        "outputId": "a1b50735-0892-4ae0-a1b0-9dd7f5823825"
      },
      "execution_count": 97,
      "outputs": [
        {
          "output_type": "execute_result",
          "data": {
            "text/plain": [
              "(34570, 18)"
            ]
          },
          "metadata": {},
          "execution_count": 97
        }
      ]
    },
    {
      "cell_type": "code",
      "source": [
        "from sklearn.model_selection import train_test_split\n",
        "X_train, X_test, y_train, y_test = train_test_split(data_X, data_Y, test_size=0.33, random_state=42)"
      ],
      "metadata": {
        "id": "zg7ZB69qppqk"
      },
      "execution_count": 98,
      "outputs": []
    },
    {
      "cell_type": "code",
      "source": [
        "X_train.shape"
      ],
      "metadata": {
        "colab": {
          "base_uri": "https://localhost:8080/"
        },
        "id": "m771K3kp3yve",
        "outputId": "ecea7a33-4f81-4b56-effa-11b0a1dae413"
      },
      "execution_count": 99,
      "outputs": [
        {
          "output_type": "execute_result",
          "data": {
            "text/plain": [
              "(23161, 17)"
            ]
          },
          "metadata": {},
          "execution_count": 99
        }
      ]
    },
    {
      "cell_type": "code",
      "source": [
        "X_test.shape"
      ],
      "metadata": {
        "colab": {
          "base_uri": "https://localhost:8080/"
        },
        "id": "w0m67FCU32fk",
        "outputId": "b167c982-6fc2-44b0-8553-e1fa56add7f9"
      },
      "execution_count": 100,
      "outputs": [
        {
          "output_type": "execute_result",
          "data": {
            "text/plain": [
              "(11409, 17)"
            ]
          },
          "metadata": {},
          "execution_count": 100
        }
      ]
    },
    {
      "cell_type": "code",
      "source": [
        "scaler = StandardScaler()\n",
        "\n",
        "X_train[FEATURES] = scaler.fit_transform(X_train)\n",
        "X_test[FEATURES] = scaler.fit_transform(X_test)"
      ],
      "metadata": {
        "id": "lXadDiO9npeZ"
      },
      "execution_count": 101,
      "outputs": []
    },
    {
      "cell_type": "markdown",
      "source": [
        "# 4. MODELISATION:"
      ],
      "metadata": {
        "id": "fuqkJwFBqDmj"
      }
    },
    {
      "cell_type": "markdown",
      "source": [
        "- On a un problème d'une classification binaire\n",
        "\n",
        "- On choisira donc des Algorithmes d'apprentissage supervisé pour CLASSIFICATION\n",
        "\n",
        "- La comparaison des modèles se fera principalement sur le score AUC\n",
        "\n",
        "- Le tunning des hyperparamètres se fera avec GridSearchCV."
      ],
      "metadata": {
        "id": "hm5dL2ecqFWG"
      }
    },
    {
      "cell_type": "markdown",
      "source": [
        "### 4.1<span style=\"color:black\"> Tunning des Hyperparamètres avec HalvingGridSearchCV </span>"
      ],
      "metadata": {
        "id": "52lTMq1bqIXQ"
      }
    },
    {
      "cell_type": "code",
      "source": [
        "import sklearn.metrics as skm"
      ],
      "metadata": {
        "id": "Kcsa8tN_0CgH"
      },
      "execution_count": 102,
      "outputs": []
    },
    {
      "cell_type": "code",
      "source": [
        "def tunning(param_grid,model,X,Y):    \n",
        "    GS = GridSearchCV(model, param_grid = param_grid,scoring=\"roc_auc\",\n",
        "                                  n_jobs = -1,cv = 5, verbose = 1)\n",
        "    GS2 = GS.fit(X, Y)\n",
        "    print (\"Best Score: {}\".format(GS.best_score_)) \n",
        "    print (\"Best params: {}\".format(GS.best_params_)) \n",
        "    GS_model = GS2.best_estimator_\n",
        "    return GS_model\n"
      ],
      "metadata": {
        "id": "9HUj-SEarFbi"
      },
      "execution_count": 103,
      "outputs": []
    },
    {
      "cell_type": "markdown",
      "source": [
        "### 4.2<span style=\"color:black\"> Evaluation du modèle </span>"
      ],
      "metadata": {
        "id": "VGHIgoAqrWEE"
      }
    },
    {
      "cell_type": "code",
      "source": [
        "xgc = XGBClassifier(use_label_encoder=False)\n",
        "\n",
        "parameters = {'max_depth': [3, 5, 7, 9], \n",
        "'n_estimators': [5, 10, 15, 20, 25, 50, 100],\n",
        "'learning_rate': [0.01, 0.05, 0.1]\n",
        "              }\n",
        "xgb = tunning(parameters,xgc, X_train, y_train)\n"
      ],
      "metadata": {
        "colab": {
          "base_uri": "https://localhost:8080/"
        },
        "id": "rkvO9AFOsQzp",
        "outputId": "53309c1b-9de3-475c-fe7b-3a93feaaae2b"
      },
      "execution_count": 104,
      "outputs": [
        {
          "output_type": "stream",
          "name": "stdout",
          "text": [
            "Fitting 5 folds for each of 84 candidates, totalling 420 fits\n",
            "Best Score: 0.9755857355576218\n",
            "Best params: {'learning_rate': 0.1, 'max_depth': 9, 'n_estimators': 100}\n"
          ]
        }
      ]
    },
    {
      "cell_type": "code",
      "source": [
        "preds1 = xgb.predict(X_test)\n",
        "print(\"Tuned XGBOOST results:\")\n",
        "print(\"Precision: \" + str(round(skm.precision_score(y_true=y_test,y_pred=preds1,average='weighted') * 100, 2)) + \"%\")\n",
        "print(\"Recall:    \" + str(round(skm.recall_score(y_true=y_test,y_pred=preds1,average='weighted') * 100, 2)) + \"%\")\n",
        "print(\"F1-Score:  \" + str(round(skm.f1_score(y_true=y_test,y_pred=preds1,average='weighted') * 100, 2)) + \"%\")"
      ],
      "metadata": {
        "colab": {
          "base_uri": "https://localhost:8080/"
        },
        "id": "soUrDhVRzz6u",
        "outputId": "47213dea-3c3e-4234-d828-a9d73f4e739c"
      },
      "execution_count": 105,
      "outputs": [
        {
          "output_type": "stream",
          "name": "stdout",
          "text": [
            "Tuned XGBOOST results:\n",
            "Precision: 92.51%\n",
            "Recall:    92.51%\n",
            "F1-Score:  92.51%\n"
          ]
        }
      ]
    },
    {
      "cell_type": "code",
      "source": [
        "xgb_cfmat = skm.confusion_matrix(\n",
        "    y_true=y_test,\n",
        "    y_pred=preds1)"
      ],
      "metadata": {
        "id": "gXZFIDZhRxS6"
      },
      "execution_count": 106,
      "outputs": []
    },
    {
      "cell_type": "code",
      "source": [
        "fig, ax = plt.subplots(figsize=(7,5))\n",
        "sns.heatmap(xgb_cfmat, \n",
        "            xticklabels=['Non embauché', 'embauché'],\n",
        "            yticklabels=['Non embauché', 'embauché'],\n",
        "            annot=True,\n",
        "            fmt='g')\n",
        "plt.xlabel('predicted')\n",
        "plt.ylabel('true ')\n",
        "plt.title('XGboost Confusion Matrix')\n"
      ],
      "metadata": {
        "colab": {
          "base_uri": "https://localhost:8080/",
          "height": 367
        },
        "id": "mFYhwNr1Rb3c",
        "outputId": "0b4457d3-c685-4d41-afc6-0fa912abb3d1"
      },
      "execution_count": 107,
      "outputs": [
        {
          "output_type": "execute_result",
          "data": {
            "text/plain": [
              "Text(0.5, 1.0, 'XGboost Confusion Matrix')"
            ]
          },
          "metadata": {},
          "execution_count": 107
        },
        {
          "output_type": "display_data",
          "data": {
            "image/png": "[encoded data removed]",
            "text/plain": [
              "<Figure size 504x360 with 2 Axes>"
            ]
          },
          "metadata": {
            "needs_background": "light"
          }
        }
      ]
    },
    {
      "cell_type": "code",
      "source": [
        "knn_ = KNeighborsClassifier(algorithm='auto', n_jobs = -1)\n",
        "\n",
        "parameters = {\n",
        "    'n_neighbors':[3,4,5],\n",
        "    'weights' : ['uniform', 'distance'],\n",
        "    'p' : [1,2]\n",
        "}\n",
        "\n",
        "knn = tunning(parameters,knn_, X_train, y_train)\n"
      ],
      "metadata": {
        "colab": {
          "base_uri": "https://localhost:8080/"
        },
        "id": "eb5LYiEoy8_W",
        "outputId": "360c8e52-d753-4827-bd6e-242c2661a330"
      },
      "execution_count": 108,
      "outputs": [
        {
          "output_type": "stream",
          "name": "stdout",
          "text": [
            "Fitting 5 folds for each of 12 candidates, totalling 60 fits\n"
          ]
        },
        {
          "output_type": "stream",
          "name": "stderr",
          "text": [
            "/usr/local/lib/python3.7/dist-packages/joblib/externals/loky/process_executor.py:705: UserWarning:\n",
            "\n",
            "A worker stopped while some jobs were given to the executor. This can be caused by a too short worker timeout or by a memory leak.\n",
            "\n"
          ]
        },
        {
          "output_type": "stream",
          "name": "stdout",
          "text": [
            "Best Score: 0.9593958267653504\n",
            "Best params: {'n_neighbors': 5, 'p': 1, 'weights': 'distance'}\n"
          ]
        }
      ]
    },
    {
      "cell_type": "code",
      "source": [
        "preds2 = knn.predict(X_test)\n",
        "print(\"Tuned KNN results:\")\n",
        "print(\"Precision: \" + str(round(skm.precision_score(y_true=y_test,y_pred=preds2,average='weighted') * 100, 2)) + \"%\")\n",
        "print(\"Recall:    \" + str(round(skm.recall_score(y_true=y_test,y_pred=preds2,average='weighted') * 100, 2)) + \"%\")\n",
        "print(\"F1-Score:  \" + str(round(skm.f1_score(y_true=y_test,y_pred=preds2,average='weighted') * 100, 2)) + \"%\")"
      ],
      "metadata": {
        "colab": {
          "base_uri": "https://localhost:8080/"
        },
        "id": "QhbSE_V1zlVD",
        "outputId": "0f254767-cc42-4031-801c-d9002ae797fc"
      },
      "execution_count": 109,
      "outputs": [
        {
          "output_type": "stream",
          "name": "stdout",
          "text": [
            "Tuned KNN results:\n",
            "Precision: 90.67%\n",
            "Recall:    90.14%\n",
            "F1-Score:  90.11%\n"
          ]
        }
      ]
    },
    {
      "cell_type": "code",
      "source": [
        "knn_cfmat = skm.confusion_matrix(\n",
        "    y_true=y_test,\n",
        "    y_pred=preds2)"
      ],
      "metadata": {
        "id": "2bJEQAmny9TC"
      },
      "execution_count": 110,
      "outputs": []
    },
    {
      "cell_type": "code",
      "source": [
        "fig, ax = plt.subplots(figsize=(7,5))\n",
        "sns.heatmap(knn_cfmat, \n",
        "            xticklabels=['Non embauché', 'embauché'],\n",
        "            yticklabels=['Non embauché', 'embauché'],\n",
        "            annot=True,\n",
        "            fmt='g')\n",
        "plt.xlabel('predicted')\n",
        "plt.ylabel('true ')\n",
        "plt.title('KNN Confusion Matrix')\n"
      ],
      "metadata": {
        "colab": {
          "base_uri": "https://localhost:8080/",
          "height": 367
        },
        "id": "YJGTqKq0y9VU",
        "outputId": "c5c2efe6-59dd-43d1-f339-aedc5b89bd69"
      },
      "execution_count": 111,
      "outputs": [
        {
          "output_type": "execute_result",
          "data": {
            "text/plain": [
              "Text(0.5, 1.0, 'KNN Confusion Matrix')"
            ]
          },
          "metadata": {},
          "execution_count": 111
        },
        {
          "output_type": "display_data",
          "data": {
            "image/png": "[encoded data removed]",
            "text/plain": [
              "<Figure size 504x360 with 2 Axes>"
            ]
          },
          "metadata": {
            "needs_background": "light"
          }
        }
      ]
    },
    {
      "cell_type": "markdown",
      "source": [
        "## selection des variables :"
      ],
      "metadata": {
        "id": "nLJj8PuqTDf2"
      }
    },
    {
      "cell_type": "code",
      "source": [
        "kbest = SelectKBest(score_func=f_classif, k='all') #Score_func peut avoir : f_classif, chi2\n",
        "fit = kbest.fit(X_train, y_train.values.ravel())"
      ],
      "metadata": {
        "id": "wNitadY2y9aZ"
      },
      "execution_count": 112,
      "outputs": []
    },
    {
      "cell_type": "code",
      "source": [
        "np.set_printoptions(precision=3) #Chaque score correspond à une variable, on prend celles qui ont le meilleur score\n",
        "best = { label: value for label, value in zip(FEATURES, fit.scores_) }\n",
        "best"
      ],
      "metadata": {
        "colab": {
          "base_uri": "https://localhost:8080/"
        },
        "id": "E8S8XjYysQ5j",
        "outputId": "16e83626-1403-4caa-e1eb-a0281d515543"
      },
      "execution_count": 113,
      "outputs": [
        {
          "output_type": "execute_result",
          "data": {
            "text/plain": [
              "{'age': 102.66978735428029,\n",
              " 'cheveux': 686.24349919758,\n",
              " 'date': 14.085543064164165,\n",
              " 'day': 57.829454184957115,\n",
              " 'diplome': 81.7809010990038,\n",
              " 'dispo': 860.8796085611799,\n",
              " 'exp': 85.77409157584539,\n",
              " 'month': 1.099477383725821,\n",
              " 'note': 0.8261294007799663,\n",
              " 'q_age': 1264.2689168022036,\n",
              " 'q_exp': 914.0696570409095,\n",
              " 'q_note': 349.9231040412868,\n",
              " 'q_salaire': 399.46173513678815,\n",
              " 'salaire': 0.18702635613603513,\n",
              " 'sexe': 373.6764769521184,\n",
              " 'specialite': 785.2361509343156,\n",
              " 'year': 10.97462208258488}"
            ]
          },
          "metadata": {},
          "execution_count": 113
        }
      ]
    },
    {
      "cell_type": "markdown",
      "source": [
        "## Amélioration des modèles :     \n",
        "- On peut utiliser HalvingGridSearchCV pour le tunning qui est plus rapide et donne les memes resultats.\n",
        "- L'utilisation de plusieurs modèle de classification ( Random Forest, Gradient boosting, Decision Tree, SVC...)\n",
        "- La méthode de séparationd es train/test data."
      ],
      "metadata": {
        "id": "-q1UN-GXTtN7"
      }
    },
    {
      "cell_type": "code",
      "source": [
        ""
      ],
      "metadata": {
        "id": "7SHJaDgUUfk4"
      },
      "execution_count": null,
      "outputs": []
    }
  ]
}